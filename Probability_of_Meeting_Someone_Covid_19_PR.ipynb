{
  "nbformat": 4,
  "nbformat_minor": 0,
  "metadata": {
    "kernelspec": {
      "name": "python3",
      "display_name": "Python 3.8.5 64-bit",
      "metadata": {
        "interpreter": {
          "hash": "2244ff16718983abe338f56db6af061dbdd47c7e50cd18294cc8a0dc96f790c8"
        }
      }
    },
    "language_info": {
      "codemirror_mode": {
        "name": "ipython",
        "version": 3
      },
      "file_extension": ".py",
      "mimetype": "text/x-python",
      "name": "python",
      "nbconvert_exporter": "python",
      "pygments_lexer": "ipython3",
      "version": "3.8.5-final"
    },
    "colab": {
      "name": "Probability of Meeting Someone with Covid-19 PR.ipynb",
      "provenance": []
    }
  },
  "cells": [
    {
      "cell_type": "markdown",
      "metadata": {
        "id": "OzvRbsVEunvn"
      },
      "source": [
        "# Daily Probability of Meeting Someone With COVID-19 in Puerto Rico (CCOM 3031 Project)\r\n",
        "\r\n",
        "**Output**: Python notebook\r\n",
        "\r\n",
        "**Documentation**: [Google document](https://docs.google.com/document/d/1F_T1m6ssFgTyEOdtPctYF6wSlt-k85PdKmj9CnLaeUI/edit?usp=sharing)\r\n",
        "\r\n",
        "**Date**: 12 - 18 - 2020\r\n",
        "\r\n",
        "**Authors**: \r\n",
        "\r\n",
        "*   **Facilitator**: Omar Durand Ortiz\r\n",
        "*   **Spokesperson**: Ildefonso Pacheco Torres\r\n",
        "*   **Quality Control**: Lian M. Pérez Sierra\r\n",
        "*   **Process Analyst**: Miguel E. Cruz MolinaL\r\n"
      ]
    },
    {
      "cell_type": "markdown",
      "metadata": {
        "id": "F0AkzFdEJsTW"
      },
      "source": [
        "## Introduction:"
      ]
    },
    {
      "cell_type": "markdown",
      "metadata": {
        "id": "QuxqATclJmit"
      },
      "source": [
        "The following notebook contains the code that comprises our calculations and attempt to answer the titular question: What is the probability of meeting someone afflicted with Covid-19 in Puerto Rico? Inspired by Marek Galovič's article [\"How likely are you to meet someone with Coronavirus?\"](https://towardsdatascience.com/how-likely-are-you-to-meet-someone-with-coronavirus-4522d39487b7), our analysis calculates this probability by using the formula $\\small 1 - (1 - P(positive))$, where $\\small P(positive)$ is the probability of having the virus. As in Galovič's analysis, our results follow two different statistical approaches towards calculating $\\small P(positive)$, one frequentist and the other Bayesian.\r\n",
        "\r\n",
        "As with most other data science endeavours, this project is comprised by distinct parts devoted to data collection, processing and visualization. Our calculations employ the data recorded by the John Hopkins University of Medicine's [Coronavirus Resource Center](https://coronavirus.jhu.edu/region/us/puerto-rico) for Puerto Rico, which is updated on a daily basis with the exact amounts of new confirmed cases and deaths and total number of tests recorded on the island since the March, 16th. Previous attempts were made to use the data collected by the [Centers of Desease Control and Prevention](https://data.cdc.gov/Case-Surveillance/United-States-COVID-19-Cases-and-Deaths-by-State-o/9mfq-cb36), but said database was eventually considered inadequate, as it didn't include the daily count of negative cases and thus couldn't be used to calculate $\\small P(positive)$. Both dataset extraction processes can be found below.\r\n",
        "\r\n",
        "Finally, after calculating $\\small P(positive)$ under both statistical approaches for our dataset, our analysis ends with calculating and displaying the titular probability in two different ways: (1.) plotting the frequentist and Bayesian probabilities of meeting someone with Covid-19 in a group of size $\\small N$, given the probability of having Covid-19 for the last day in the database (i.e., today), and (2.) plotting the probabilities by time (all the entries in the database from the last to the most recent) for fixed group sizes 3, 6, 9, 12 and 50."
      ]
    },
    {
      "cell_type": "markdown",
      "metadata": {
        "id": "erak5aitXa5A"
      },
      "source": [
        "## Setup Process:"
      ]
    },
    {
      "cell_type": "markdown",
      "metadata": {
        "id": "miYx5nE8XxRS"
      },
      "source": [
        "Install sodapy library used in the code if necessary:"
      ]
    },
    {
      "cell_type": "code",
      "metadata": {
        "colab": {
          "base_uri": "https://localhost:8080/"
        },
        "id": "GQ18Kd5F3uKe",
        "outputId": "275a004a-bd00-45f8-d1e3-6d643917e945"
      },
      "source": [
        "!pip install sodapy"
      ],
      "execution_count": 1,
      "outputs": [
        {
          "output_type": "stream",
          "name": "stdout",
          "text": [
            "Requirement already satisfied: sodapy in c:\\users\\lianp\\appdata\\local\\programs\\python\\python38\\lib\\site-packages (2.1.0)\nRequirement already satisfied: requests>=2.20.0 in c:\\users\\lianp\\appdata\\local\\programs\\python\\python38\\lib\\site-packages (from sodapy) (2.25.0)\nRequirement already satisfied: urllib3<1.27,>=1.21.1 in c:\\users\\lianp\\appdata\\local\\programs\\python\\python38\\lib\\site-packages (from requests>=2.20.0->sodapy) (1.26.2)\nRequirement already satisfied: idna<3,>=2.5 in c:\\users\\lianp\\appdata\\local\\programs\\python\\python38\\lib\\site-packages (from requests>=2.20.0->sodapy) (2.10)\nRequirement already satisfied: certifi>=2017.4.17 in c:\\users\\lianp\\appdata\\local\\programs\\python\\python38\\lib\\site-packages (from requests>=2.20.0->sodapy) (2020.12.5)\nRequirement already satisfied: chardet<4,>=3.0.2 in c:\\users\\lianp\\appdata\\local\\programs\\python\\python38\\lib\\site-packages (from requests>=2.20.0->sodapy) (3.0.4)\n"
          ]
        }
      ]
    },
    {
      "cell_type": "markdown",
      "metadata": {
        "id": "Wim-gs5mcVXY"
      },
      "source": [
        "Import relevant libraries:"
      ]
    },
    {
      "cell_type": "code",
      "metadata": {
        "id": "isTfAoFkT-wE"
      },
      "source": [
        "from sodapy import Socrata\n",
        "import pandas as pd\n",
        "import numpy as np\n",
        "import datetime\n",
        "import matplotlib.pyplot as plt"
      ],
      "execution_count": 6,
      "outputs": []
    },
    {
      "cell_type": "markdown",
      "metadata": {
        "id": "17lv4wnbX4Na"
      },
      "source": [
        "## Data extraction and cleaning of old (CDC) dataset:"
      ]
    },
    {
      "cell_type": "markdown",
      "metadata": {
        "id": "m1P-oxcn2Z18"
      },
      "source": [
        "Population of Puerto Rico: "
      ]
    },
    {
      "cell_type": "code",
      "metadata": {
        "id": "0BgNuO6l2Z1_"
      },
      "source": [
        "population = 3193694"
      ],
      "execution_count": 117,
      "outputs": []
    },
    {
      "cell_type": "markdown",
      "metadata": {
        "id": "hqbBnImlcgPO"
      },
      "source": [
        "Read data from CDC:"
      ]
    },
    {
      "cell_type": "code",
      "metadata": {
        "id": "aHcPsVM8T-wW"
      },
      "source": [
        "df = pd.read_json(\"https://data.cdc.gov/resource/9mfq-cb36.json?state=PR\")"
      ],
      "execution_count": 118,
      "outputs": []
    },
    {
      "cell_type": "markdown",
      "metadata": {
        "id": "N8irMmXkdb93"
      },
      "source": [
        "Confirm that PR is the only state included in the data:"
      ]
    },
    {
      "cell_type": "code",
      "metadata": {
        "colab": {
          "base_uri": "https://localhost:8080/"
        },
        "id": "FhF2PAXQT-wc",
        "outputId": "9264882c-82ac-4054-b244-3760db286810"
      },
      "source": [
        "df.state.unique()"
      ],
      "execution_count": 119,
      "outputs": [
        {
          "output_type": "execute_result",
          "data": {
            "text/plain": [
              "array(['PR'], dtype=object)"
            ]
          },
          "metadata": {
            "tags": []
          },
          "execution_count": 119
        }
      ]
    },
    {
      "cell_type": "markdown",
      "metadata": {
        "id": "oF_8cj6-MUgC"
      },
      "source": [
        "Sort values by submission date:"
      ]
    },
    {
      "cell_type": "code",
      "metadata": {
        "id": "FEEjSP0PnMq3"
      },
      "source": [
        "df.sort_values(by = 'submission_date', inplace = True)"
      ],
      "execution_count": 120,
      "outputs": []
    },
    {
      "cell_type": "markdown",
      "metadata": {
        "id": "smGnu_r0NMVX"
      },
      "source": [
        "Replace all null values:\n",
        "\n",
        "* First, with the previous values for each variable in the data frame.\n",
        "\n",
        "* In the case of the number of *confirmed cases*, which would otherwise stay as null in the first few rows, replace it with the number of *total cases* for all those rows. \n",
        "\n",
        "* In the case of the number of *probable cases*, do the same, replacing it with the number of total cases minus the number of confirmed cases for all rows where it is null.\n",
        "\n",
        "This procedure stems from the presumption that (1.) once these variables started being counted, the counts for rows with null values must have stayed the same than that of the previous rows (this is only true for accumulative variables, i.e. `tot_cases`, `conf_cases`, `prob_cases`, `tot_death`, `conf_death`, and `prob_death`) and (2.) before a distinction was made between confirmed and probable cases, every recorded case was treated as a confirmed case."
      ]
    },
    {
      "cell_type": "code",
      "metadata": {
        "id": "CcTlqjk_whWH"
      },
      "source": [
        "df = df.fillna(method = 'ffill')\n",
        "\n",
        "df['conf_cases'] = df['conf_cases'].fillna(df['tot_cases']) \n",
        "df['prob_cases'] = df['prob_cases'].fillna(df['tot_cases'] - df['conf_cases'])"
      ],
      "execution_count": 121,
      "outputs": []
    },
    {
      "cell_type": "markdown",
      "metadata": {
        "id": "i9VCFNiIckri"
      },
      "source": [
        "Examine first 5 rows and last 5 rows:"
      ]
    },
    {
      "cell_type": "code",
      "metadata": {
        "colab": {
          "base_uri": "https://localhost:8080/",
          "height": 309
        },
        "id": "FGRq0GXwT-wZ",
        "outputId": "9702138d-329f-4918-92f2-ef23ed17bd3b"
      },
      "source": [
        "df.head(5)"
      ],
      "execution_count": 122,
      "outputs": [
        {
          "output_type": "execute_result",
          "data": {
            "text/html": [
              "<div>\n",
              "<style scoped>\n",
              "    .dataframe tbody tr th:only-of-type {\n",
              "        vertical-align: middle;\n",
              "    }\n",
              "\n",
              "    .dataframe tbody tr th {\n",
              "        vertical-align: top;\n",
              "    }\n",
              "\n",
              "    .dataframe thead th {\n",
              "        text-align: right;\n",
              "    }\n",
              "</style>\n",
              "<table border=\"1\" class=\"dataframe\">\n",
              "  <thead>\n",
              "    <tr style=\"text-align: right;\">\n",
              "      <th></th>\n",
              "      <th>submission_date</th>\n",
              "      <th>state</th>\n",
              "      <th>tot_cases</th>\n",
              "      <th>new_case</th>\n",
              "      <th>tot_death</th>\n",
              "      <th>new_death</th>\n",
              "      <th>created_at</th>\n",
              "      <th>consent_cases</th>\n",
              "      <th>consent_deaths</th>\n",
              "      <th>conf_cases</th>\n",
              "      <th>prob_cases</th>\n",
              "      <th>pnew_case</th>\n",
              "      <th>conf_death</th>\n",
              "      <th>prob_death</th>\n",
              "      <th>pnew_death</th>\n",
              "    </tr>\n",
              "  </thead>\n",
              "  <tbody>\n",
              "    <tr>\n",
              "      <th>134</th>\n",
              "      <td>2020-01-22T00:00:00.000</td>\n",
              "      <td>PR</td>\n",
              "      <td>0</td>\n",
              "      <td>0</td>\n",
              "      <td>0</td>\n",
              "      <td>0</td>\n",
              "      <td>2020-03-26 16:22:39.452</td>\n",
              "      <td>Agree</td>\n",
              "      <td>Agree</td>\n",
              "      <td>0.0</td>\n",
              "      <td>0.0</td>\n",
              "      <td>NaN</td>\n",
              "      <td>NaN</td>\n",
              "      <td>NaN</td>\n",
              "      <td>NaN</td>\n",
              "    </tr>\n",
              "    <tr>\n",
              "      <th>217</th>\n",
              "      <td>2020-01-23T00:00:00.000</td>\n",
              "      <td>PR</td>\n",
              "      <td>0</td>\n",
              "      <td>0</td>\n",
              "      <td>0</td>\n",
              "      <td>0</td>\n",
              "      <td>2020-03-26 16:22:39.452</td>\n",
              "      <td>Agree</td>\n",
              "      <td>Agree</td>\n",
              "      <td>0.0</td>\n",
              "      <td>0.0</td>\n",
              "      <td>NaN</td>\n",
              "      <td>NaN</td>\n",
              "      <td>NaN</td>\n",
              "      <td>NaN</td>\n",
              "    </tr>\n",
              "    <tr>\n",
              "      <th>63</th>\n",
              "      <td>2020-01-24T00:00:00.000</td>\n",
              "      <td>PR</td>\n",
              "      <td>0</td>\n",
              "      <td>0</td>\n",
              "      <td>0</td>\n",
              "      <td>0</td>\n",
              "      <td>2020-03-26 16:22:39.452</td>\n",
              "      <td>Agree</td>\n",
              "      <td>Agree</td>\n",
              "      <td>0.0</td>\n",
              "      <td>0.0</td>\n",
              "      <td>NaN</td>\n",
              "      <td>NaN</td>\n",
              "      <td>NaN</td>\n",
              "      <td>NaN</td>\n",
              "    </tr>\n",
              "    <tr>\n",
              "      <th>185</th>\n",
              "      <td>2020-01-25T00:00:00.000</td>\n",
              "      <td>PR</td>\n",
              "      <td>0</td>\n",
              "      <td>0</td>\n",
              "      <td>0</td>\n",
              "      <td>0</td>\n",
              "      <td>2020-03-26 16:22:39.452</td>\n",
              "      <td>Agree</td>\n",
              "      <td>Agree</td>\n",
              "      <td>0.0</td>\n",
              "      <td>0.0</td>\n",
              "      <td>NaN</td>\n",
              "      <td>NaN</td>\n",
              "      <td>NaN</td>\n",
              "      <td>NaN</td>\n",
              "    </tr>\n",
              "    <tr>\n",
              "      <th>0</th>\n",
              "      <td>2020-01-26T00:00:00.000</td>\n",
              "      <td>PR</td>\n",
              "      <td>0</td>\n",
              "      <td>0</td>\n",
              "      <td>0</td>\n",
              "      <td>0</td>\n",
              "      <td>2020-03-26 16:22:39.452</td>\n",
              "      <td>Agree</td>\n",
              "      <td>Agree</td>\n",
              "      <td>0.0</td>\n",
              "      <td>0.0</td>\n",
              "      <td>NaN</td>\n",
              "      <td>NaN</td>\n",
              "      <td>NaN</td>\n",
              "      <td>NaN</td>\n",
              "    </tr>\n",
              "  </tbody>\n",
              "</table>\n",
              "</div>"
            ],
            "text/plain": [
              "             submission_date state  ...  prob_death  pnew_death\n",
              "134  2020-01-22T00:00:00.000    PR  ...         NaN         NaN\n",
              "217  2020-01-23T00:00:00.000    PR  ...         NaN         NaN\n",
              "63   2020-01-24T00:00:00.000    PR  ...         NaN         NaN\n",
              "185  2020-01-25T00:00:00.000    PR  ...         NaN         NaN\n",
              "0    2020-01-26T00:00:00.000    PR  ...         NaN         NaN\n",
              "\n",
              "[5 rows x 15 columns]"
            ]
          },
          "metadata": {
            "tags": []
          },
          "execution_count": 122
        }
      ]
    },
    {
      "cell_type": "code",
      "metadata": {
        "colab": {
          "base_uri": "https://localhost:8080/",
          "height": 309
        },
        "id": "JqjH9YQRcxQs",
        "outputId": "ecdca10a-dc93-47c0-d40a-837a199a92a2"
      },
      "source": [
        "df.tail(5)"
      ],
      "execution_count": 123,
      "outputs": [
        {
          "output_type": "execute_result",
          "data": {
            "text/html": [
              "<div>\n",
              "<style scoped>\n",
              "    .dataframe tbody tr th:only-of-type {\n",
              "        vertical-align: middle;\n",
              "    }\n",
              "\n",
              "    .dataframe tbody tr th {\n",
              "        vertical-align: top;\n",
              "    }\n",
              "\n",
              "    .dataframe thead th {\n",
              "        text-align: right;\n",
              "    }\n",
              "</style>\n",
              "<table border=\"1\" class=\"dataframe\">\n",
              "  <thead>\n",
              "    <tr style=\"text-align: right;\">\n",
              "      <th></th>\n",
              "      <th>submission_date</th>\n",
              "      <th>state</th>\n",
              "      <th>tot_cases</th>\n",
              "      <th>new_case</th>\n",
              "      <th>tot_death</th>\n",
              "      <th>new_death</th>\n",
              "      <th>created_at</th>\n",
              "      <th>consent_cases</th>\n",
              "      <th>consent_deaths</th>\n",
              "      <th>conf_cases</th>\n",
              "      <th>prob_cases</th>\n",
              "      <th>pnew_case</th>\n",
              "      <th>conf_death</th>\n",
              "      <th>prob_death</th>\n",
              "      <th>pnew_death</th>\n",
              "    </tr>\n",
              "  </thead>\n",
              "  <tbody>\n",
              "    <tr>\n",
              "      <th>152</th>\n",
              "      <td>2020-12-16T00:00:00.000</td>\n",
              "      <td>PR</td>\n",
              "      <td>64751</td>\n",
              "      <td>1065</td>\n",
              "      <td>1323</td>\n",
              "      <td>11</td>\n",
              "      <td>2020-12-17 14:33:42.543</td>\n",
              "      <td>Agree</td>\n",
              "      <td>Agree</td>\n",
              "      <td>61783.0</td>\n",
              "      <td>2968.0</td>\n",
              "      <td>74.0</td>\n",
              "      <td>1086.0</td>\n",
              "      <td>237.0</td>\n",
              "      <td>2.0</td>\n",
              "    </tr>\n",
              "    <tr>\n",
              "      <th>8</th>\n",
              "      <td>2020-12-17T00:00:00.000</td>\n",
              "      <td>PR</td>\n",
              "      <td>66132</td>\n",
              "      <td>1381</td>\n",
              "      <td>1333</td>\n",
              "      <td>10</td>\n",
              "      <td>2020-12-18 14:45:01.331</td>\n",
              "      <td>Agree</td>\n",
              "      <td>Agree</td>\n",
              "      <td>63075.0</td>\n",
              "      <td>3057.0</td>\n",
              "      <td>89.0</td>\n",
              "      <td>1094.0</td>\n",
              "      <td>239.0</td>\n",
              "      <td>2.0</td>\n",
              "    </tr>\n",
              "    <tr>\n",
              "      <th>119</th>\n",
              "      <td>2020-12-18T00:00:00.000</td>\n",
              "      <td>PR</td>\n",
              "      <td>67211</td>\n",
              "      <td>1079</td>\n",
              "      <td>1342</td>\n",
              "      <td>9</td>\n",
              "      <td>2020-12-19 14:42:31.925</td>\n",
              "      <td>Agree</td>\n",
              "      <td>Agree</td>\n",
              "      <td>64182.0</td>\n",
              "      <td>3029.0</td>\n",
              "      <td>-28.0</td>\n",
              "      <td>1102.0</td>\n",
              "      <td>240.0</td>\n",
              "      <td>1.0</td>\n",
              "    </tr>\n",
              "    <tr>\n",
              "      <th>258</th>\n",
              "      <td>2020-12-19T00:00:00.000</td>\n",
              "      <td>PR</td>\n",
              "      <td>68433</td>\n",
              "      <td>1222</td>\n",
              "      <td>1368</td>\n",
              "      <td>26</td>\n",
              "      <td>2020-12-20 14:32:33.200</td>\n",
              "      <td>Agree</td>\n",
              "      <td>Agree</td>\n",
              "      <td>64697.0</td>\n",
              "      <td>3736.0</td>\n",
              "      <td>707.0</td>\n",
              "      <td>1125.0</td>\n",
              "      <td>243.0</td>\n",
              "      <td>3.0</td>\n",
              "    </tr>\n",
              "    <tr>\n",
              "      <th>249</th>\n",
              "      <td>2020-12-20T00:00:00.000</td>\n",
              "      <td>PR</td>\n",
              "      <td>68849</td>\n",
              "      <td>416</td>\n",
              "      <td>1382</td>\n",
              "      <td>14</td>\n",
              "      <td>2020-12-21 14:39:53.673</td>\n",
              "      <td>Agree</td>\n",
              "      <td>Agree</td>\n",
              "      <td>65064.0</td>\n",
              "      <td>3785.0</td>\n",
              "      <td>49.0</td>\n",
              "      <td>1141.0</td>\n",
              "      <td>241.0</td>\n",
              "      <td>-2.0</td>\n",
              "    </tr>\n",
              "  </tbody>\n",
              "</table>\n",
              "</div>"
            ],
            "text/plain": [
              "             submission_date state  ...  prob_death  pnew_death\n",
              "152  2020-12-16T00:00:00.000    PR  ...       237.0         2.0\n",
              "8    2020-12-17T00:00:00.000    PR  ...       239.0         2.0\n",
              "119  2020-12-18T00:00:00.000    PR  ...       240.0         1.0\n",
              "258  2020-12-19T00:00:00.000    PR  ...       243.0         3.0\n",
              "249  2020-12-20T00:00:00.000    PR  ...       241.0        -2.0\n",
              "\n",
              "[5 rows x 15 columns]"
            ]
          },
          "metadata": {
            "tags": []
          },
          "execution_count": 123
        }
      ]
    },
    {
      "cell_type": "markdown",
      "metadata": {
        "id": "1O5oxKB32g_8"
      },
      "source": [
        "Examine characteristics of the dataset: "
      ]
    },
    {
      "cell_type": "code",
      "metadata": {
        "colab": {
          "base_uri": "https://localhost:8080/",
          "height": 297
        },
        "id": "13VAF9NyT-wd",
        "outputId": "a722b131-3ff7-45a0-c893-bb57553f07aa"
      },
      "source": [
        "df.describe()"
      ],
      "execution_count": 124,
      "outputs": [
        {
          "output_type": "execute_result",
          "data": {
            "text/html": [
              "<div>\n",
              "<style scoped>\n",
              "    .dataframe tbody tr th:only-of-type {\n",
              "        vertical-align: middle;\n",
              "    }\n",
              "\n",
              "    .dataframe tbody tr th {\n",
              "        vertical-align: top;\n",
              "    }\n",
              "\n",
              "    .dataframe thead th {\n",
              "        text-align: right;\n",
              "    }\n",
              "</style>\n",
              "<table border=\"1\" class=\"dataframe\">\n",
              "  <thead>\n",
              "    <tr style=\"text-align: right;\">\n",
              "      <th></th>\n",
              "      <th>tot_cases</th>\n",
              "      <th>new_case</th>\n",
              "      <th>tot_death</th>\n",
              "      <th>new_death</th>\n",
              "      <th>conf_cases</th>\n",
              "      <th>prob_cases</th>\n",
              "      <th>pnew_case</th>\n",
              "      <th>conf_death</th>\n",
              "      <th>prob_death</th>\n",
              "      <th>pnew_death</th>\n",
              "    </tr>\n",
              "  </thead>\n",
              "  <tbody>\n",
              "    <tr>\n",
              "      <th>count</th>\n",
              "      <td>334.000000</td>\n",
              "      <td>334.000000</td>\n",
              "      <td>334.000000</td>\n",
              "      <td>334.000000</td>\n",
              "      <td>334.000000</td>\n",
              "      <td>334.000000</td>\n",
              "      <td>246.000000</td>\n",
              "      <td>246.000000</td>\n",
              "      <td>246.000000</td>\n",
              "      <td>246.000000</td>\n",
              "    </tr>\n",
              "    <tr>\n",
              "      <th>mean</th>\n",
              "      <td>21499.152695</td>\n",
              "      <td>206.134731</td>\n",
              "      <td>359.221557</td>\n",
              "      <td>4.137725</td>\n",
              "      <td>13577.700599</td>\n",
              "      <td>7921.452096</td>\n",
              "      <td>15.386179</td>\n",
              "      <td>350.894309</td>\n",
              "      <td>134.178862</td>\n",
              "      <td>0.979675</td>\n",
              "    </tr>\n",
              "    <tr>\n",
              "      <th>std</th>\n",
              "      <td>23230.484405</td>\n",
              "      <td>1877.131483</td>\n",
              "      <td>387.352001</td>\n",
              "      <td>5.114211</td>\n",
              "      <td>17791.163600</td>\n",
              "      <td>10135.749272</td>\n",
              "      <td>2177.234727</td>\n",
              "      <td>317.458101</td>\n",
              "      <td>66.638107</td>\n",
              "      <td>3.527674</td>\n",
              "    </tr>\n",
              "    <tr>\n",
              "      <th>min</th>\n",
              "      <td>0.000000</td>\n",
              "      <td>-33355.000000</td>\n",
              "      <td>0.000000</td>\n",
              "      <td>0.000000</td>\n",
              "      <td>0.000000</td>\n",
              "      <td>0.000000</td>\n",
              "      <td>-33864.000000</td>\n",
              "      <td>56.000000</td>\n",
              "      <td>0.000000</td>\n",
              "      <td>-11.000000</td>\n",
              "    </tr>\n",
              "    <tr>\n",
              "      <th>25%</th>\n",
              "      <td>935.750000</td>\n",
              "      <td>24.250000</td>\n",
              "      <td>46.500000</td>\n",
              "      <td>0.000000</td>\n",
              "      <td>935.750000</td>\n",
              "      <td>0.000000</td>\n",
              "      <td>33.750000</td>\n",
              "      <td>63.000000</td>\n",
              "      <td>90.500000</td>\n",
              "      <td>0.000000</td>\n",
              "    </tr>\n",
              "    <tr>\n",
              "      <th>50%</th>\n",
              "      <td>8729.500000</td>\n",
              "      <td>129.000000</td>\n",
              "      <td>158.000000</td>\n",
              "      <td>2.000000</td>\n",
              "      <td>2757.500000</td>\n",
              "      <td>2579.000000</td>\n",
              "      <td>102.000000</td>\n",
              "      <td>238.000000</td>\n",
              "      <td>132.500000</td>\n",
              "      <td>0.000000</td>\n",
              "    </tr>\n",
              "    <tr>\n",
              "      <th>75%</th>\n",
              "      <td>42478.250000</td>\n",
              "      <td>531.250000</td>\n",
              "      <td>652.500000</td>\n",
              "      <td>7.000000</td>\n",
              "      <td>23690.000000</td>\n",
              "      <td>14722.750000</td>\n",
              "      <td>227.250000</td>\n",
              "      <td>589.000000</td>\n",
              "      <td>183.750000</td>\n",
              "      <td>1.000000</td>\n",
              "    </tr>\n",
              "    <tr>\n",
              "      <th>max</th>\n",
              "      <td>71455.000000</td>\n",
              "      <td>1947.000000</td>\n",
              "      <td>1382.000000</td>\n",
              "      <td>26.000000</td>\n",
              "      <td>65064.000000</td>\n",
              "      <td>33965.000000</td>\n",
              "      <td>1959.000000</td>\n",
              "      <td>1141.000000</td>\n",
              "      <td>246.000000</td>\n",
              "      <td>51.000000</td>\n",
              "    </tr>\n",
              "  </tbody>\n",
              "</table>\n",
              "</div>"
            ],
            "text/plain": [
              "          tot_cases      new_case  ...  prob_death  pnew_death\n",
              "count    334.000000    334.000000  ...  246.000000  246.000000\n",
              "mean   21499.152695    206.134731  ...  134.178862    0.979675\n",
              "std    23230.484405   1877.131483  ...   66.638107    3.527674\n",
              "min        0.000000 -33355.000000  ...    0.000000  -11.000000\n",
              "25%      935.750000     24.250000  ...   90.500000    0.000000\n",
              "50%     8729.500000    129.000000  ...  132.500000    0.000000\n",
              "75%    42478.250000    531.250000  ...  183.750000    1.000000\n",
              "max    71455.000000   1947.000000  ...  246.000000   51.000000\n",
              "\n",
              "[8 rows x 10 columns]"
            ]
          },
          "metadata": {
            "tags": []
          },
          "execution_count": 124
        }
      ]
    },
    {
      "cell_type": "markdown",
      "metadata": {
        "id": "ejA2SPrr2sMB"
      },
      "source": [
        "Calculate frenquentist and Bayesian results of `P(positive)` for all rows of the dataset (these formulas are explained in more detail in the \"Probability of meeting someone with Covid-19 in Puerto Rico\" section:"
      ]
    },
    {
      "cell_type": "code",
      "metadata": {
        "id": "2HGTBhE0ULPr"
      },
      "source": [
        "df['freq_pos'] = df['conf_cases']/population"
      ],
      "execution_count": 125,
      "outputs": []
    },
    {
      "cell_type": "code",
      "metadata": {
        "id": "6r_sSF30VQNA"
      },
      "source": [
        "df['bayes_pos'] = 2*df['freq_pos']"
      ],
      "execution_count": 126,
      "outputs": []
    },
    {
      "cell_type": "markdown",
      "metadata": {
        "id": "4heRMSJnYdD6"
      },
      "source": [
        "## Data extraction and cleaning of new (John Hopkins) dataset:"
      ]
    },
    {
      "cell_type": "markdown",
      "metadata": {
        "id": "a5fHmDH5SBJJ"
      },
      "source": [
        "Population of Puerto Rico: "
      ]
    },
    {
      "cell_type": "code",
      "metadata": {
        "id": "qq3UNIpOT-wg"
      },
      "source": [
        "population = 3193694"
      ],
      "execution_count": 28,
      "outputs": []
    },
    {
      "cell_type": "markdown",
      "metadata": {
        "id": "UuO3mpfsu-F8"
      },
      "source": [
        "Read statistics with total tested population (positive and negative) in Puerto Rico from using John Hopkins API:"
      ]
    },
    {
      "cell_type": "code",
      "metadata": {
        "id": "ONIIrxgZu-F8"
      },
      "source": [
        "df_test = pd.read_json(\"https://api.covidtracking.com/v1/states/pr/daily.json\")"
      ],
      "execution_count": 29,
      "outputs": []
    },
    {
      "cell_type": "markdown",
      "metadata": {
        "id": "_ktB-0drY6Aa"
      },
      "source": [
        "Modify `date` variable to contain Date objects in the format `year-month-day`, instead of integers:"
      ]
    },
    {
      "cell_type": "code",
      "metadata": {
        "id": "ujiv0ck1TkJs"
      },
      "source": [
        "newdates = []\r\n",
        "\r\n",
        "for index, row in df_test.iterrows():\r\n",
        "  date = datetime.date(year  = int(str(row['date'])[0:4]),\r\n",
        "                       month = int(str(row['date'])[4:6]),\r\n",
        "                       day   = int(str(row['date'])[6:8]))\r\n",
        "  newdates.append(date)\r\n",
        "\r\n",
        "df_test['date'] = newdates"
      ],
      "execution_count": 30,
      "outputs": []
    },
    {
      "cell_type": "markdown",
      "metadata": {
        "id": "AYSQevM3v3AX"
      },
      "source": [
        "Sort the data by date, from the first day recorded to the last:"
      ]
    },
    {
      "cell_type": "code",
      "metadata": {
        "id": "2RWvndDhwqAL"
      },
      "source": [
        "df_test.sort_values(by = 'date', inplace = True)"
      ],
      "execution_count": 31,
      "outputs": []
    },
    {
      "cell_type": "markdown",
      "metadata": {
        "id": "xPLPP2T8u-F9"
      },
      "source": [
        "See the first five rows of the dataframe and the last five:"
      ]
    },
    {
      "cell_type": "code",
      "metadata": {
        "scrolled": true,
        "colab": {
          "base_uri": "https://localhost:8080/",
          "height": 309
        },
        "id": "b7Zt3sBvu-F9",
        "outputId": "c4972ba7-fdea-4370-cfeb-b361079f8c59"
      },
      "source": [
        "df_test.head(5)"
      ],
      "execution_count": 32,
      "outputs": [
        {
          "output_type": "execute_result",
          "data": {
            "text/html": [
              "<div>\n",
              "<style scoped>\n",
              "    .dataframe tbody tr th:only-of-type {\n",
              "        vertical-align: middle;\n",
              "    }\n",
              "\n",
              "    .dataframe tbody tr th {\n",
              "        vertical-align: top;\n",
              "    }\n",
              "\n",
              "    .dataframe thead th {\n",
              "        text-align: right;\n",
              "    }\n",
              "</style>\n",
              "<table border=\"1\" class=\"dataframe\">\n",
              "  <thead>\n",
              "    <tr style=\"text-align: right;\">\n",
              "      <th></th>\n",
              "      <th>date</th>\n",
              "      <th>state</th>\n",
              "      <th>positive</th>\n",
              "      <th>probableCases</th>\n",
              "      <th>negative</th>\n",
              "      <th>pending</th>\n",
              "      <th>totalTestResultsSource</th>\n",
              "      <th>totalTestResults</th>\n",
              "      <th>hospitalizedCurrently</th>\n",
              "      <th>hospitalizedCumulative</th>\n",
              "      <th>inIcuCurrently</th>\n",
              "      <th>inIcuCumulative</th>\n",
              "      <th>onVentilatorCurrently</th>\n",
              "      <th>onVentilatorCumulative</th>\n",
              "      <th>recovered</th>\n",
              "      <th>dataQualityGrade</th>\n",
              "      <th>lastUpdateEt</th>\n",
              "      <th>dateModified</th>\n",
              "      <th>checkTimeEt</th>\n",
              "      <th>death</th>\n",
              "      <th>hospitalized</th>\n",
              "      <th>dateChecked</th>\n",
              "      <th>totalTestsViral</th>\n",
              "      <th>positiveTestsViral</th>\n",
              "      <th>negativeTestsViral</th>\n",
              "      <th>positiveCasesViral</th>\n",
              "      <th>deathConfirmed</th>\n",
              "      <th>deathProbable</th>\n",
              "      <th>totalTestEncountersViral</th>\n",
              "      <th>totalTestsPeopleViral</th>\n",
              "      <th>totalTestsAntibody</th>\n",
              "      <th>positiveTestsAntibody</th>\n",
              "      <th>negativeTestsAntibody</th>\n",
              "      <th>totalTestsPeopleAntibody</th>\n",
              "      <th>positiveTestsPeopleAntibody</th>\n",
              "      <th>negativeTestsPeopleAntibody</th>\n",
              "      <th>totalTestsPeopleAntigen</th>\n",
              "      <th>positiveTestsPeopleAntigen</th>\n",
              "      <th>totalTestsAntigen</th>\n",
              "      <th>positiveTestsAntigen</th>\n",
              "      <th>fips</th>\n",
              "      <th>positiveIncrease</th>\n",
              "      <th>negativeIncrease</th>\n",
              "      <th>total</th>\n",
              "      <th>totalTestResultsIncrease</th>\n",
              "      <th>posNeg</th>\n",
              "      <th>deathIncrease</th>\n",
              "      <th>hospitalizedIncrease</th>\n",
              "      <th>hash</th>\n",
              "      <th>commercialScore</th>\n",
              "      <th>negativeRegularScore</th>\n",
              "      <th>negativeScore</th>\n",
              "      <th>positiveScore</th>\n",
              "      <th>score</th>\n",
              "      <th>grade</th>\n",
              "    </tr>\n",
              "  </thead>\n",
              "  <tbody>\n",
              "    <tr>\n",
              "      <th>279</th>\n",
              "      <td>2020-03-16</td>\n",
              "      <td>PR</td>\n",
              "      <td>5</td>\n",
              "      <td>NaN</td>\n",
              "      <td>9.0</td>\n",
              "      <td>NaN</td>\n",
              "      <td>posNeg</td>\n",
              "      <td>14</td>\n",
              "      <td>NaN</td>\n",
              "      <td>NaN</td>\n",
              "      <td>NaN</td>\n",
              "      <td>NaN</td>\n",
              "      <td>NaN</td>\n",
              "      <td>NaN</td>\n",
              "      <td>NaN</td>\n",
              "      <td>None</td>\n",
              "      <td>3/16/2020 15:44</td>\n",
              "      <td>2020-03-16T15:44:00Z</td>\n",
              "      <td>03/16 11:44</td>\n",
              "      <td>NaN</td>\n",
              "      <td>NaN</td>\n",
              "      <td>2020-03-16T15:44:00Z</td>\n",
              "      <td>NaN</td>\n",
              "      <td>NaN</td>\n",
              "      <td>NaN</td>\n",
              "      <td>NaN</td>\n",
              "      <td>NaN</td>\n",
              "      <td>NaN</td>\n",
              "      <td>NaN</td>\n",
              "      <td>NaN</td>\n",
              "      <td>NaN</td>\n",
              "      <td>NaN</td>\n",
              "      <td>NaN</td>\n",
              "      <td>NaN</td>\n",
              "      <td>NaN</td>\n",
              "      <td>NaN</td>\n",
              "      <td>NaN</td>\n",
              "      <td>NaN</td>\n",
              "      <td>NaN</td>\n",
              "      <td>NaN</td>\n",
              "      <td>72</td>\n",
              "      <td>0</td>\n",
              "      <td>0</td>\n",
              "      <td>14</td>\n",
              "      <td>0</td>\n",
              "      <td>14</td>\n",
              "      <td>0</td>\n",
              "      <td>0</td>\n",
              "      <td>fe077c5e3c595b45d18fb0f097cd9b98d719fa7e</td>\n",
              "      <td>0</td>\n",
              "      <td>0</td>\n",
              "      <td>0</td>\n",
              "      <td>0</td>\n",
              "      <td>0</td>\n",
              "      <td></td>\n",
              "    </tr>\n",
              "    <tr>\n",
              "      <th>278</th>\n",
              "      <td>2020-03-17</td>\n",
              "      <td>PR</td>\n",
              "      <td>5</td>\n",
              "      <td>NaN</td>\n",
              "      <td>13.0</td>\n",
              "      <td>4.0</td>\n",
              "      <td>posNeg</td>\n",
              "      <td>18</td>\n",
              "      <td>NaN</td>\n",
              "      <td>NaN</td>\n",
              "      <td>NaN</td>\n",
              "      <td>NaN</td>\n",
              "      <td>NaN</td>\n",
              "      <td>NaN</td>\n",
              "      <td>NaN</td>\n",
              "      <td>None</td>\n",
              "      <td>3/17/2020 15:41</td>\n",
              "      <td>2020-03-17T15:41:00Z</td>\n",
              "      <td>03/17 11:41</td>\n",
              "      <td>NaN</td>\n",
              "      <td>NaN</td>\n",
              "      <td>2020-03-17T15:41:00Z</td>\n",
              "      <td>NaN</td>\n",
              "      <td>NaN</td>\n",
              "      <td>NaN</td>\n",
              "      <td>NaN</td>\n",
              "      <td>NaN</td>\n",
              "      <td>NaN</td>\n",
              "      <td>NaN</td>\n",
              "      <td>NaN</td>\n",
              "      <td>NaN</td>\n",
              "      <td>NaN</td>\n",
              "      <td>NaN</td>\n",
              "      <td>NaN</td>\n",
              "      <td>NaN</td>\n",
              "      <td>NaN</td>\n",
              "      <td>NaN</td>\n",
              "      <td>NaN</td>\n",
              "      <td>NaN</td>\n",
              "      <td>NaN</td>\n",
              "      <td>72</td>\n",
              "      <td>0</td>\n",
              "      <td>4</td>\n",
              "      <td>22</td>\n",
              "      <td>4</td>\n",
              "      <td>18</td>\n",
              "      <td>0</td>\n",
              "      <td>0</td>\n",
              "      <td>9fdeef6f35b99fba0007a978631d4968c5b7da15</td>\n",
              "      <td>0</td>\n",
              "      <td>0</td>\n",
              "      <td>0</td>\n",
              "      <td>0</td>\n",
              "      <td>0</td>\n",
              "      <td></td>\n",
              "    </tr>\n",
              "    <tr>\n",
              "      <th>277</th>\n",
              "      <td>2020-03-18</td>\n",
              "      <td>PR</td>\n",
              "      <td>5</td>\n",
              "      <td>NaN</td>\n",
              "      <td>31.0</td>\n",
              "      <td>21.0</td>\n",
              "      <td>posNeg</td>\n",
              "      <td>36</td>\n",
              "      <td>NaN</td>\n",
              "      <td>NaN</td>\n",
              "      <td>NaN</td>\n",
              "      <td>NaN</td>\n",
              "      <td>NaN</td>\n",
              "      <td>NaN</td>\n",
              "      <td>NaN</td>\n",
              "      <td>None</td>\n",
              "      <td>3/17/2020 22:00</td>\n",
              "      <td>2020-03-17T22:00:00Z</td>\n",
              "      <td>03/17 18:00</td>\n",
              "      <td>NaN</td>\n",
              "      <td>NaN</td>\n",
              "      <td>2020-03-17T22:00:00Z</td>\n",
              "      <td>NaN</td>\n",
              "      <td>NaN</td>\n",
              "      <td>NaN</td>\n",
              "      <td>NaN</td>\n",
              "      <td>NaN</td>\n",
              "      <td>NaN</td>\n",
              "      <td>NaN</td>\n",
              "      <td>NaN</td>\n",
              "      <td>NaN</td>\n",
              "      <td>NaN</td>\n",
              "      <td>NaN</td>\n",
              "      <td>NaN</td>\n",
              "      <td>NaN</td>\n",
              "      <td>NaN</td>\n",
              "      <td>NaN</td>\n",
              "      <td>NaN</td>\n",
              "      <td>NaN</td>\n",
              "      <td>NaN</td>\n",
              "      <td>72</td>\n",
              "      <td>0</td>\n",
              "      <td>18</td>\n",
              "      <td>57</td>\n",
              "      <td>18</td>\n",
              "      <td>36</td>\n",
              "      <td>0</td>\n",
              "      <td>0</td>\n",
              "      <td>7e2772b6d5f3a4f32c5008d7c9f32e55296af442</td>\n",
              "      <td>0</td>\n",
              "      <td>0</td>\n",
              "      <td>0</td>\n",
              "      <td>0</td>\n",
              "      <td>0</td>\n",
              "      <td></td>\n",
              "    </tr>\n",
              "    <tr>\n",
              "      <th>276</th>\n",
              "      <td>2020-03-19</td>\n",
              "      <td>PR</td>\n",
              "      <td>5</td>\n",
              "      <td>NaN</td>\n",
              "      <td>56.0</td>\n",
              "      <td>29.0</td>\n",
              "      <td>posNeg</td>\n",
              "      <td>61</td>\n",
              "      <td>NaN</td>\n",
              "      <td>NaN</td>\n",
              "      <td>NaN</td>\n",
              "      <td>NaN</td>\n",
              "      <td>NaN</td>\n",
              "      <td>NaN</td>\n",
              "      <td>NaN</td>\n",
              "      <td>None</td>\n",
              "      <td>3/19/2020 07:50</td>\n",
              "      <td>2020-03-19T07:50:00Z</td>\n",
              "      <td>03/19 03:50</td>\n",
              "      <td>NaN</td>\n",
              "      <td>NaN</td>\n",
              "      <td>2020-03-19T07:50:00Z</td>\n",
              "      <td>NaN</td>\n",
              "      <td>NaN</td>\n",
              "      <td>NaN</td>\n",
              "      <td>NaN</td>\n",
              "      <td>NaN</td>\n",
              "      <td>NaN</td>\n",
              "      <td>NaN</td>\n",
              "      <td>NaN</td>\n",
              "      <td>NaN</td>\n",
              "      <td>NaN</td>\n",
              "      <td>NaN</td>\n",
              "      <td>NaN</td>\n",
              "      <td>NaN</td>\n",
              "      <td>NaN</td>\n",
              "      <td>NaN</td>\n",
              "      <td>NaN</td>\n",
              "      <td>NaN</td>\n",
              "      <td>NaN</td>\n",
              "      <td>72</td>\n",
              "      <td>0</td>\n",
              "      <td>25</td>\n",
              "      <td>90</td>\n",
              "      <td>25</td>\n",
              "      <td>61</td>\n",
              "      <td>0</td>\n",
              "      <td>0</td>\n",
              "      <td>d4bf72adb6f7f817bdd2c56adb99aef8d25131b9</td>\n",
              "      <td>0</td>\n",
              "      <td>0</td>\n",
              "      <td>0</td>\n",
              "      <td>0</td>\n",
              "      <td>0</td>\n",
              "      <td></td>\n",
              "    </tr>\n",
              "    <tr>\n",
              "      <th>275</th>\n",
              "      <td>2020-03-20</td>\n",
              "      <td>PR</td>\n",
              "      <td>14</td>\n",
              "      <td>NaN</td>\n",
              "      <td>114.0</td>\n",
              "      <td>52.0</td>\n",
              "      <td>posNeg</td>\n",
              "      <td>128</td>\n",
              "      <td>NaN</td>\n",
              "      <td>NaN</td>\n",
              "      <td>NaN</td>\n",
              "      <td>NaN</td>\n",
              "      <td>NaN</td>\n",
              "      <td>NaN</td>\n",
              "      <td>NaN</td>\n",
              "      <td>None</td>\n",
              "      <td>3/20/2020 13:00</td>\n",
              "      <td>2020-03-20T13:00:00Z</td>\n",
              "      <td>03/20 09:00</td>\n",
              "      <td>NaN</td>\n",
              "      <td>NaN</td>\n",
              "      <td>2020-03-20T13:00:00Z</td>\n",
              "      <td>NaN</td>\n",
              "      <td>NaN</td>\n",
              "      <td>NaN</td>\n",
              "      <td>NaN</td>\n",
              "      <td>NaN</td>\n",
              "      <td>NaN</td>\n",
              "      <td>NaN</td>\n",
              "      <td>NaN</td>\n",
              "      <td>NaN</td>\n",
              "      <td>NaN</td>\n",
              "      <td>NaN</td>\n",
              "      <td>NaN</td>\n",
              "      <td>NaN</td>\n",
              "      <td>NaN</td>\n",
              "      <td>NaN</td>\n",
              "      <td>NaN</td>\n",
              "      <td>NaN</td>\n",
              "      <td>NaN</td>\n",
              "      <td>72</td>\n",
              "      <td>9</td>\n",
              "      <td>58</td>\n",
              "      <td>180</td>\n",
              "      <td>67</td>\n",
              "      <td>128</td>\n",
              "      <td>0</td>\n",
              "      <td>0</td>\n",
              "      <td>9a4f4775accc09ece73768764ab3954b725a30e4</td>\n",
              "      <td>0</td>\n",
              "      <td>0</td>\n",
              "      <td>0</td>\n",
              "      <td>0</td>\n",
              "      <td>0</td>\n",
              "      <td></td>\n",
              "    </tr>\n",
              "  </tbody>\n",
              "</table>\n",
              "</div>"
            ],
            "text/plain": [
              "           date state  positive  ...  positiveScore  score  grade\n",
              "279  2020-03-16    PR         5  ...              0      0       \n",
              "278  2020-03-17    PR         5  ...              0      0       \n",
              "277  2020-03-18    PR         5  ...              0      0       \n",
              "276  2020-03-19    PR         5  ...              0      0       \n",
              "275  2020-03-20    PR        14  ...              0      0       \n",
              "\n",
              "[5 rows x 55 columns]"
            ]
          },
          "metadata": {
            "tags": []
          },
          "execution_count": 32
        }
      ]
    },
    {
      "cell_type": "code",
      "metadata": {
        "colab": {
          "base_uri": "https://localhost:8080/",
          "height": 309
        },
        "id": "SbMfYA4-xA-B",
        "outputId": "5995185e-95e3-47b0-d4c4-99b9e8291802"
      },
      "source": [
        "df_test.tail(5)"
      ],
      "execution_count": 33,
      "outputs": [
        {
          "output_type": "execute_result",
          "data": {
            "text/html": [
              "<div>\n",
              "<style scoped>\n",
              "    .dataframe tbody tr th:only-of-type {\n",
              "        vertical-align: middle;\n",
              "    }\n",
              "\n",
              "    .dataframe tbody tr th {\n",
              "        vertical-align: top;\n",
              "    }\n",
              "\n",
              "    .dataframe thead th {\n",
              "        text-align: right;\n",
              "    }\n",
              "</style>\n",
              "<table border=\"1\" class=\"dataframe\">\n",
              "  <thead>\n",
              "    <tr style=\"text-align: right;\">\n",
              "      <th></th>\n",
              "      <th>date</th>\n",
              "      <th>state</th>\n",
              "      <th>positive</th>\n",
              "      <th>probableCases</th>\n",
              "      <th>negative</th>\n",
              "      <th>pending</th>\n",
              "      <th>totalTestResultsSource</th>\n",
              "      <th>totalTestResults</th>\n",
              "      <th>hospitalizedCurrently</th>\n",
              "      <th>hospitalizedCumulative</th>\n",
              "      <th>inIcuCurrently</th>\n",
              "      <th>inIcuCumulative</th>\n",
              "      <th>onVentilatorCurrently</th>\n",
              "      <th>onVentilatorCumulative</th>\n",
              "      <th>recovered</th>\n",
              "      <th>dataQualityGrade</th>\n",
              "      <th>lastUpdateEt</th>\n",
              "      <th>dateModified</th>\n",
              "      <th>checkTimeEt</th>\n",
              "      <th>death</th>\n",
              "      <th>hospitalized</th>\n",
              "      <th>dateChecked</th>\n",
              "      <th>totalTestsViral</th>\n",
              "      <th>positiveTestsViral</th>\n",
              "      <th>negativeTestsViral</th>\n",
              "      <th>positiveCasesViral</th>\n",
              "      <th>deathConfirmed</th>\n",
              "      <th>deathProbable</th>\n",
              "      <th>totalTestEncountersViral</th>\n",
              "      <th>totalTestsPeopleViral</th>\n",
              "      <th>totalTestsAntibody</th>\n",
              "      <th>positiveTestsAntibody</th>\n",
              "      <th>negativeTestsAntibody</th>\n",
              "      <th>totalTestsPeopleAntibody</th>\n",
              "      <th>positiveTestsPeopleAntibody</th>\n",
              "      <th>negativeTestsPeopleAntibody</th>\n",
              "      <th>totalTestsPeopleAntigen</th>\n",
              "      <th>positiveTestsPeopleAntigen</th>\n",
              "      <th>totalTestsAntigen</th>\n",
              "      <th>positiveTestsAntigen</th>\n",
              "      <th>fips</th>\n",
              "      <th>positiveIncrease</th>\n",
              "      <th>negativeIncrease</th>\n",
              "      <th>total</th>\n",
              "      <th>totalTestResultsIncrease</th>\n",
              "      <th>posNeg</th>\n",
              "      <th>deathIncrease</th>\n",
              "      <th>hospitalizedIncrease</th>\n",
              "      <th>hash</th>\n",
              "      <th>commercialScore</th>\n",
              "      <th>negativeRegularScore</th>\n",
              "      <th>negativeScore</th>\n",
              "      <th>positiveScore</th>\n",
              "      <th>score</th>\n",
              "      <th>grade</th>\n",
              "    </tr>\n",
              "  </thead>\n",
              "  <tbody>\n",
              "    <tr>\n",
              "      <th>4</th>\n",
              "      <td>2020-12-16</td>\n",
              "      <td>PR</td>\n",
              "      <td>63686</td>\n",
              "      <td>2894.0</td>\n",
              "      <td>305972.0</td>\n",
              "      <td>NaN</td>\n",
              "      <td>posNeg</td>\n",
              "      <td>369658</td>\n",
              "      <td>593.0</td>\n",
              "      <td>NaN</td>\n",
              "      <td>98.0</td>\n",
              "      <td>NaN</td>\n",
              "      <td>96.0</td>\n",
              "      <td>NaN</td>\n",
              "      <td>55464.0</td>\n",
              "      <td>B</td>\n",
              "      <td>12/16/2020 00:00</td>\n",
              "      <td>2020-12-16T00:00:00Z</td>\n",
              "      <td>12/15 19:00</td>\n",
              "      <td>1312.0</td>\n",
              "      <td>NaN</td>\n",
              "      <td>2020-12-16T00:00:00Z</td>\n",
              "      <td>310546.0</td>\n",
              "      <td>7002.0</td>\n",
              "      <td>303412.0</td>\n",
              "      <td>60792.0</td>\n",
              "      <td>1077.0</td>\n",
              "      <td>235.0</td>\n",
              "      <td>NaN</td>\n",
              "      <td>NaN</td>\n",
              "      <td>NaN</td>\n",
              "      <td>47546.0</td>\n",
              "      <td>NaN</td>\n",
              "      <td>NaN</td>\n",
              "      <td>NaN</td>\n",
              "      <td>NaN</td>\n",
              "      <td>NaN</td>\n",
              "      <td>NaN</td>\n",
              "      <td>NaN</td>\n",
              "      <td>NaN</td>\n",
              "      <td>72</td>\n",
              "      <td>267</td>\n",
              "      <td>0</td>\n",
              "      <td>369658</td>\n",
              "      <td>267</td>\n",
              "      <td>369658</td>\n",
              "      <td>18</td>\n",
              "      <td>0</td>\n",
              "      <td>5e658de3c995662bd95b62a03bf75533ce87c62e</td>\n",
              "      <td>0</td>\n",
              "      <td>0</td>\n",
              "      <td>0</td>\n",
              "      <td>0</td>\n",
              "      <td>0</td>\n",
              "      <td></td>\n",
              "    </tr>\n",
              "    <tr>\n",
              "      <th>3</th>\n",
              "      <td>2020-12-17</td>\n",
              "      <td>PR</td>\n",
              "      <td>64751</td>\n",
              "      <td>2968.0</td>\n",
              "      <td>305972.0</td>\n",
              "      <td>NaN</td>\n",
              "      <td>posNeg</td>\n",
              "      <td>370723</td>\n",
              "      <td>602.0</td>\n",
              "      <td>NaN</td>\n",
              "      <td>99.0</td>\n",
              "      <td>NaN</td>\n",
              "      <td>100.0</td>\n",
              "      <td>NaN</td>\n",
              "      <td>55479.0</td>\n",
              "      <td>B</td>\n",
              "      <td>12/17/2020 00:00</td>\n",
              "      <td>2020-12-17T00:00:00Z</td>\n",
              "      <td>12/16 19:00</td>\n",
              "      <td>1323.0</td>\n",
              "      <td>NaN</td>\n",
              "      <td>2020-12-17T00:00:00Z</td>\n",
              "      <td>310546.0</td>\n",
              "      <td>7002.0</td>\n",
              "      <td>303412.0</td>\n",
              "      <td>61783.0</td>\n",
              "      <td>1086.0</td>\n",
              "      <td>237.0</td>\n",
              "      <td>NaN</td>\n",
              "      <td>NaN</td>\n",
              "      <td>NaN</td>\n",
              "      <td>48083.0</td>\n",
              "      <td>NaN</td>\n",
              "      <td>NaN</td>\n",
              "      <td>NaN</td>\n",
              "      <td>NaN</td>\n",
              "      <td>NaN</td>\n",
              "      <td>NaN</td>\n",
              "      <td>NaN</td>\n",
              "      <td>NaN</td>\n",
              "      <td>72</td>\n",
              "      <td>1065</td>\n",
              "      <td>0</td>\n",
              "      <td>370723</td>\n",
              "      <td>1065</td>\n",
              "      <td>370723</td>\n",
              "      <td>11</td>\n",
              "      <td>0</td>\n",
              "      <td>61f42bcc02694de9a91a19b9b177fd4698252399</td>\n",
              "      <td>0</td>\n",
              "      <td>0</td>\n",
              "      <td>0</td>\n",
              "      <td>0</td>\n",
              "      <td>0</td>\n",
              "      <td></td>\n",
              "    </tr>\n",
              "    <tr>\n",
              "      <th>2</th>\n",
              "      <td>2020-12-18</td>\n",
              "      <td>PR</td>\n",
              "      <td>66132</td>\n",
              "      <td>3057.0</td>\n",
              "      <td>305972.0</td>\n",
              "      <td>NaN</td>\n",
              "      <td>posNeg</td>\n",
              "      <td>372104</td>\n",
              "      <td>575.0</td>\n",
              "      <td>NaN</td>\n",
              "      <td>97.0</td>\n",
              "      <td>NaN</td>\n",
              "      <td>96.0</td>\n",
              "      <td>NaN</td>\n",
              "      <td>55628.0</td>\n",
              "      <td>B</td>\n",
              "      <td>12/18/2020 00:00</td>\n",
              "      <td>2020-12-18T00:00:00Z</td>\n",
              "      <td>12/17 19:00</td>\n",
              "      <td>1333.0</td>\n",
              "      <td>NaN</td>\n",
              "      <td>2020-12-18T00:00:00Z</td>\n",
              "      <td>310546.0</td>\n",
              "      <td>7002.0</td>\n",
              "      <td>303412.0</td>\n",
              "      <td>63075.0</td>\n",
              "      <td>1094.0</td>\n",
              "      <td>239.0</td>\n",
              "      <td>NaN</td>\n",
              "      <td>NaN</td>\n",
              "      <td>NaN</td>\n",
              "      <td>49060.0</td>\n",
              "      <td>NaN</td>\n",
              "      <td>NaN</td>\n",
              "      <td>NaN</td>\n",
              "      <td>NaN</td>\n",
              "      <td>NaN</td>\n",
              "      <td>NaN</td>\n",
              "      <td>NaN</td>\n",
              "      <td>NaN</td>\n",
              "      <td>72</td>\n",
              "      <td>1381</td>\n",
              "      <td>0</td>\n",
              "      <td>372104</td>\n",
              "      <td>1381</td>\n",
              "      <td>372104</td>\n",
              "      <td>10</td>\n",
              "      <td>0</td>\n",
              "      <td>c3f8cab58c3b1e6d170d116190289d9aac151d66</td>\n",
              "      <td>0</td>\n",
              "      <td>0</td>\n",
              "      <td>0</td>\n",
              "      <td>0</td>\n",
              "      <td>0</td>\n",
              "      <td></td>\n",
              "    </tr>\n",
              "    <tr>\n",
              "      <th>1</th>\n",
              "      <td>2020-12-19</td>\n",
              "      <td>PR</td>\n",
              "      <td>67211</td>\n",
              "      <td>3029.0</td>\n",
              "      <td>305972.0</td>\n",
              "      <td>NaN</td>\n",
              "      <td>posNeg</td>\n",
              "      <td>373183</td>\n",
              "      <td>558.0</td>\n",
              "      <td>NaN</td>\n",
              "      <td>97.0</td>\n",
              "      <td>NaN</td>\n",
              "      <td>106.0</td>\n",
              "      <td>NaN</td>\n",
              "      <td>55964.0</td>\n",
              "      <td>B</td>\n",
              "      <td>12/19/2020 00:00</td>\n",
              "      <td>2020-12-19T00:00:00Z</td>\n",
              "      <td>12/18 19:00</td>\n",
              "      <td>1342.0</td>\n",
              "      <td>NaN</td>\n",
              "      <td>2020-12-19T00:00:00Z</td>\n",
              "      <td>310546.0</td>\n",
              "      <td>7002.0</td>\n",
              "      <td>303412.0</td>\n",
              "      <td>64182.0</td>\n",
              "      <td>1102.0</td>\n",
              "      <td>240.0</td>\n",
              "      <td>NaN</td>\n",
              "      <td>NaN</td>\n",
              "      <td>NaN</td>\n",
              "      <td>49859.0</td>\n",
              "      <td>NaN</td>\n",
              "      <td>NaN</td>\n",
              "      <td>NaN</td>\n",
              "      <td>NaN</td>\n",
              "      <td>NaN</td>\n",
              "      <td>NaN</td>\n",
              "      <td>NaN</td>\n",
              "      <td>NaN</td>\n",
              "      <td>72</td>\n",
              "      <td>1079</td>\n",
              "      <td>0</td>\n",
              "      <td>373183</td>\n",
              "      <td>1079</td>\n",
              "      <td>373183</td>\n",
              "      <td>9</td>\n",
              "      <td>0</td>\n",
              "      <td>1d8e0273fa3d493a292383e8a742f70b7c6851fe</td>\n",
              "      <td>0</td>\n",
              "      <td>0</td>\n",
              "      <td>0</td>\n",
              "      <td>0</td>\n",
              "      <td>0</td>\n",
              "      <td></td>\n",
              "    </tr>\n",
              "    <tr>\n",
              "      <th>0</th>\n",
              "      <td>2020-12-20</td>\n",
              "      <td>PR</td>\n",
              "      <td>68433</td>\n",
              "      <td>3736.0</td>\n",
              "      <td>305972.0</td>\n",
              "      <td>NaN</td>\n",
              "      <td>posNeg</td>\n",
              "      <td>374405</td>\n",
              "      <td>540.0</td>\n",
              "      <td>NaN</td>\n",
              "      <td>94.0</td>\n",
              "      <td>NaN</td>\n",
              "      <td>101.0</td>\n",
              "      <td>NaN</td>\n",
              "      <td>55454.0</td>\n",
              "      <td>B</td>\n",
              "      <td>12/20/2020 00:00</td>\n",
              "      <td>2020-12-20T00:00:00Z</td>\n",
              "      <td>12/19 19:00</td>\n",
              "      <td>1368.0</td>\n",
              "      <td>NaN</td>\n",
              "      <td>2020-12-20T00:00:00Z</td>\n",
              "      <td>310546.0</td>\n",
              "      <td>7002.0</td>\n",
              "      <td>303412.0</td>\n",
              "      <td>64697.0</td>\n",
              "      <td>1125.0</td>\n",
              "      <td>243.0</td>\n",
              "      <td>NaN</td>\n",
              "      <td>NaN</td>\n",
              "      <td>NaN</td>\n",
              "      <td>50177.0</td>\n",
              "      <td>NaN</td>\n",
              "      <td>NaN</td>\n",
              "      <td>NaN</td>\n",
              "      <td>NaN</td>\n",
              "      <td>NaN</td>\n",
              "      <td>NaN</td>\n",
              "      <td>NaN</td>\n",
              "      <td>NaN</td>\n",
              "      <td>72</td>\n",
              "      <td>1222</td>\n",
              "      <td>0</td>\n",
              "      <td>374405</td>\n",
              "      <td>1222</td>\n",
              "      <td>374405</td>\n",
              "      <td>26</td>\n",
              "      <td>0</td>\n",
              "      <td>5ad7fc9ce84f2607ee3ad5d68dacfcfcd99acdb1</td>\n",
              "      <td>0</td>\n",
              "      <td>0</td>\n",
              "      <td>0</td>\n",
              "      <td>0</td>\n",
              "      <td>0</td>\n",
              "      <td></td>\n",
              "    </tr>\n",
              "  </tbody>\n",
              "</table>\n",
              "</div>"
            ],
            "text/plain": [
              "         date state  positive  ...  positiveScore  score  grade\n",
              "4  2020-12-16    PR     63686  ...              0      0       \n",
              "3  2020-12-17    PR     64751  ...              0      0       \n",
              "2  2020-12-18    PR     66132  ...              0      0       \n",
              "1  2020-12-19    PR     67211  ...              0      0       \n",
              "0  2020-12-20    PR     68433  ...              0      0       \n",
              "\n",
              "[5 rows x 55 columns]"
            ]
          },
          "metadata": {
            "tags": []
          },
          "execution_count": 33
        }
      ]
    },
    {
      "cell_type": "markdown",
      "metadata": {
        "id": "lCTcYTeDu-F-"
      },
      "source": [
        "## Probability of meeting someone with Covid-19 in Puerto Rico:\r\n",
        "\r\n",
        "\r\n",
        "The probability of encountering someone with Covid-19 in any one day is assumed to be the probability of someone in a group of $\\small N$ people having the virus, calculated as $\\small 1 - (1 - P(positive))^N$. As mentioned in the introduction, our study considers two different statistical approaches to finding the corresponding value of $\\small P(positive)$ for each day: one frequentist, the other Bayesian. "
      ]
    },
    {
      "cell_type": "markdown",
      "metadata": {
        "id": "ObBvyO3WaQfI"
      },
      "source": [
        "### Frequentist approach to calculating $\\small P(positive)$: \r\n",
        "\r\n",
        "Using the frequentist approach, the probability is calculated by dividing the number of recorded positive (or \"active\") cases by the total size of the population of Puerto Rico."
      ]
    },
    {
      "cell_type": "code",
      "metadata": {
        "id": "ImI1GWqEu-F_"
      },
      "source": [
        "df_test['frequentist'] = df_test['positive']/population\n",
        "#df_test.tail(5)"
      ],
      "execution_count": 34,
      "outputs": []
    },
    {
      "cell_type": "markdown",
      "metadata": {
        "id": "lmCjlChbu-F_"
      },
      "source": [
        "**Frequentist value of $\\small P(positive)$ for today**:\n",
        "\n",
        "Since the data frame is ordered from the first to the most recent day recorded, and we assume that the dataset is continuously being updated, the probability $\\small P(positive)$ under the frequentist approach is the probability recorded in the last row of the data frame:"
      ]
    },
    {
      "cell_type": "code",
      "metadata": {
        "colab": {
          "base_uri": "https://localhost:8080/"
        },
        "id": "W6YC8MmbfPPI",
        "outputId": "ce5080e9-b04f-48c5-be44-71897c2c1c80"
      },
      "source": [
        "freq_prob = df_test.iloc[-1].at['frequentist']\r\n",
        "print(freq_prob)"
      ],
      "execution_count": 35,
      "outputs": [
        {
          "output_type": "stream",
          "text": [
            "0.021427538142351772\n"
          ],
          "name": "stdout"
        }
      ]
    },
    {
      "cell_type": "markdown",
      "metadata": {
        "id": "_1at-WMJgxrJ"
      },
      "source": [
        "### Bayesian approach to calculating $\\small P(positive)$: \r\n",
        "\r\n",
        "Under the Bayesian approach, the probability of being positive to Covid-19 is calculated as $\\small P(positive) = P(positive|tested) \\times P(tested) / P(tested|positive)$. In this context, $\\small P(positive|tested)$ is the number of confirmed cases divided by the total of cases, and $\\small P(tested)$ is the number of total tests divided by the population of Puerto Rico. Thus, the numerator of the formula is reduced to the number of confirmed cases over the total population, the same as the frequentist probability. The denominator is chosen to be $\\small 0.5$, with the somewhat pessimistic assumption that only half of the people with Covid-19 will get tested for the virus. Therefore, the original formula is simplified as `2 * freq_prob`. "
      ]
    },
    {
      "cell_type": "code",
      "metadata": {
        "id": "K7N-tfrlgxrL"
      },
      "source": [
        "df_test['bayesian'] = 2*df_test['frequentist']\n",
        "#df_test.tail(5)"
      ],
      "execution_count": 37,
      "outputs": []
    },
    {
      "cell_type": "markdown",
      "metadata": {
        "id": "RWJVL9tIgxrM"
      },
      "source": [
        "**Bayesian value of $\\small P(positive)$ for today**:\n",
        "\n",
        "As before, the probability $\\small P(positive)$ under the Bayesian approach is the probability recorded in the last row of the data frame:"
      ]
    },
    {
      "cell_type": "code",
      "metadata": {
        "colab": {
          "base_uri": "https://localhost:8080/"
        },
        "id": "DSOBG941gxrN",
        "outputId": "fd4f69d3-209b-4c1f-b96f-d35ff29d3978"
      },
      "source": [
        "bayes_prob = df_test.iloc[-1].at['bayesian']\r\n",
        "print(bayes_prob)"
      ],
      "execution_count": 38,
      "outputs": [
        {
          "output_type": "stream",
          "text": [
            "0.042855076284703544\n"
          ],
          "name": "stdout"
        }
      ]
    },
    {
      "cell_type": "markdown",
      "metadata": {
        "id": "W_GRaqOKlDcI"
      },
      "source": [
        "### Plotting the probability by group size for today:\r\n",
        "\r\n",
        "Having extracted the values of $\\small P(positive)$ for today for both statistical approaches, we can now calculate and plot the titular probability for group sizes 1 through 200. We do this by building a new data frame with the group sizes, adding the probabilities, and plotting them on a single graph."
      ]
    },
    {
      "cell_type": "markdown",
      "metadata": {
        "id": "1ulX90Nbu-GA"
      },
      "source": [
        "Creating group size data frame:"
      ]
    },
    {
      "cell_type": "code",
      "metadata": {
        "id": "5h03hJznu-GB"
      },
      "source": [
        "group_size = list(range(1,201))\n",
        "group_size_df = pd.DataFrame(group_size)\n",
        "group_size_df = group_size_df.rename(columns={0: 'group_size'})"
      ],
      "execution_count": 39,
      "outputs": []
    },
    {
      "cell_type": "markdown",
      "metadata": {
        "id": "D3I-gA70u-GB"
      },
      "source": [
        "Calculating the probability by group size, using the frequentist approach:"
      ]
    },
    {
      "cell_type": "code",
      "metadata": {
        "id": "m8yBPo06u-GC"
      },
      "source": [
        "group_size_df['Freq_Prob'] = (1 - (1 - freq_prob)**group_size_df['group_size'])*100\n",
        "#print(group_size_df)\n",
        "#plt.plot(group_size_df['group_size'], group_size_df['Freq_Prob'])"
      ],
      "execution_count": 40,
      "outputs": []
    },
    {
      "cell_type": "markdown",
      "metadata": {
        "id": "Wh4_asEvpS_I"
      },
      "source": [
        "Calculating the probability by group size, using the Bayesian approach:"
      ]
    },
    {
      "cell_type": "code",
      "metadata": {
        "id": "6b1IJ55qpWvj"
      },
      "source": [
        "group_size_df['Bayes_Prob'] = (1 - (1 - bayes_prob)**group_size_df['group_size'])*100\r\n",
        "#print(group_size_df)\r\n",
        "#plt.plot(group_size_df['group_size'], group_size_df['Bayes_Prob'])"
      ],
      "execution_count": 41,
      "outputs": []
    },
    {
      "cell_type": "markdown",
      "metadata": {
        "id": "hyfKLDYFqoic"
      },
      "source": [
        "Plot the probability of coming into contact with someone with Covid-19 in a group of size $\\small N$, given the probability of someone having Covid-19 calculated for today under both the frequentist and Bayesian approaches:"
      ]
    },
    {
      "cell_type": "code",
      "metadata": {
        "colab": {
          "base_uri": "https://localhost:8080/",
          "height": 325
        },
        "id": "RU9qQtmZq_vr",
        "outputId": "c4f7606e-9926-486d-f68a-108206f9c31b"
      },
      "source": [
        "fig, ax = plt.subplots()\r\n",
        "\r\n",
        "ax.plot(group_size_df['group_size'], group_size_df['Freq_Prob'])\r\n",
        "ax.plot(group_size_df['group_size'], group_size_df['Bayes_Prob'])\r\n",
        "\r\n",
        "ax.set_xlabel(\"Group size N\")\r\n",
        "ax.set_ylabel(\"Probability (1 - (1 - P(positive))^N)\")\r\n",
        "ax.set_title('''Today's probability of meeting someone with Covid-19 \r\n",
        "in Puerto Rico, given group size N \\n''')\r\n",
        "plt.legend(['Frequentist', 'Bayesian'])\r\n",
        "\r\n",
        "plt.show()\r\n",
        "plt.close()"
      ],
      "execution_count": 42,
      "outputs": [
        {
          "output_type": "display_data",
          "data": {
            "image/png": "[encoded data removed]",
            "text/plain": [
              "<Figure size 432x288 with 1 Axes>"
            ]
          },
          "metadata": {
            "tags": [],
            "needs_background": "light"
          }
        }
      ]
    },
    {
      "cell_type": "markdown",
      "metadata": {
        "id": "ld1GkaPcs34e"
      },
      "source": [
        "### Plotting the probability by time for a range of fixed group sizes:\r\n",
        "\r\n",
        "Having calculated the values of $\\small P(positive)$ for all the entries (days) in the dataset, we can also calculate and plot the daily increment in the probabilities of someone having Covid-19 in a group of fixed size. For this project, we generate the plots for groups of sizes 3, 6, 9, 12 and 50. We also allow the user to display in each plot the dates when 16 executive orders concerning the virus were passed in Puerto Rico, further dividing them between those that increased, decreased or extended previous state-enforced restrictions and lockdown measures. "
      ]
    },
    {
      "cell_type": "markdown",
      "metadata": {
        "id": "AqHiwz2GZhpd"
      },
      "source": [
        "Group together the dates and ID numbers of the executive orders by which of them increased, decreased or extended previous restrictions:"
      ]
    },
    {
      "cell_type": "code",
      "metadata": {
        "id": "D5bRX4w6ZiKT"
      },
      "source": [
        "# Executive orders that increased restrictions: 020, 029, 038, 054, 080, 087, 093\r\n",
        "\r\n",
        "More_restr_EO = [(\"2020-03-15\", \"020\"), (\"2020-03-30\", \"029\"), (\"2020-05-01\", \"038\"), (\"2020-07-16\", \"054\"), \r\n",
        "                 (\"2020-11-13\", \"080\"), (\"2020-12-03\", \"087\"), (\"2020-12-18\", \"093\")]\r\n",
        "\r\n",
        "# Executive orders that decreased restrictions: 041, 044, 048, 062\r\n",
        "\r\n",
        "Less_restr_EO = [(\"2020-05-21\", \"041\"), (\"2020-06-12\", \"044\"), (\"2020-06-29\", \"048\"), (\"2020-08-22\", \"062\")]\r\n",
        "\r\n",
        "# Executive orders that extended previous restrictions: 033, 060, 066, 076, 077\r\n",
        "\r\n",
        "Same_restr_EO = [(\"2020-04-12\", \"033\"), (\"2020-08-01\", \"060\"), (\"2020-09-11\", \"066\"), \r\n",
        "                 (\"2020-10-01\", \"076\"), (\"2020-10-16\", \"077\")]"
      ],
      "execution_count": 90,
      "outputs": []
    },
    {
      "cell_type": "markdown",
      "metadata": {
        "id": "MDTUHSDKpaqU"
      },
      "source": [
        "Decide whether to display the datetimes of the executive orders in the following plots, defined by the Boolean variable `show_EOs` "
      ]
    },
    {
      "cell_type": "code",
      "metadata": {
        "id": "0QyOXx01pbAF"
      },
      "source": [
        "show_EOs = True"
      ],
      "execution_count": 115,
      "outputs": []
    },
    {
      "cell_type": "markdown",
      "metadata": {
        "id": "JeRqbZB-2zj9"
      },
      "source": [
        "Plot the daily increase in the probability of coming into contact with someone with Covid-19 in a group of **size 3**:"
      ]
    },
    {
      "cell_type": "code",
      "metadata": {
        "colab": {
          "base_uri": "https://localhost:8080/",
          "height": 352
        },
        "id": "-8UlRDIs2zkh",
        "outputId": "e103cc1c-88b8-4080-a60c-bb3da27a72a3"
      },
      "source": [
        "# Calculate daily probabilities by both approaches:\r\n",
        "\r\n",
        "probs_3 = []\r\n",
        "for index, row in df_test.iterrows(): \r\n",
        "  probs_3.append((1 - (1 - row['frequentist'])**3)*100)\r\n",
        "for index, row in df_test.iterrows():\r\n",
        "  probs_3.append((1 - (1 - row['bayesian'])**3)*100)\r\n",
        "\r\n",
        "# Plot probabilites by time:\r\n",
        "\r\n",
        "fig, ax = plt.subplots()\r\n",
        "ax.plot(df_test['date'], probs_3[len(df_test['date']):])\r\n",
        "ax.plot(df_test['date'], probs_3[:len(df_test['date'])])\r\n",
        "\r\n",
        "# Set axis labels and title of the graph:\r\n",
        "\r\n",
        "ax.set_xlabel(\"Time\")\r\n",
        "ax.set_ylabel(\"Probability (1 - (1 - P(positive))^3)\")\r\n",
        "ax.set_title('''Time increase in probability of meeting someone with \r\n",
        "Covid-19 in Puerto Rico, in a group of size 3 \\n''')\r\n",
        "\r\n",
        "# Set y-axis limits, rotate x-axis ticks and insert legend:\r\n",
        "\r\n",
        "plt.ylim(0, 100)\r\n",
        "plt.xticks(rotation = 45)\r\n",
        "plt.legend(['Frequentist', 'Bayesian'])\r\n",
        "\r\n",
        "# Show lines marking the date of each executive order, its ID # and whether\r\n",
        "#   it increased ('+'), decreased ('_') or continued previous restrictions:\r\n",
        "\r\n",
        "if show_EOs:\r\n",
        "  for EO in More_restr_EO: \r\n",
        "    plt.axvline(pd.to_datetime(EO[0]), linestyle = '-' , color = 'grey', alpha = 0.15) \r\n",
        "    plt.plot(pd.to_datetime(EO[0]), 70, marker = '+', color = 'black', alpha = 0.20)\r\n",
        "    plt.text(pd.to_datetime(EO[0]), 50, EO[1], horizontalalignment = 'center', \r\n",
        "             rotation = 45, alpha = 0.20)\r\n",
        "  for EO in Less_restr_EO: \r\n",
        "    plt.axvline(pd.to_datetime(EO[0]), linestyle = '-' , color = 'grey', alpha = 0.15)\r\n",
        "    plt.plot(pd.to_datetime(EO[0]), 70, marker = '_', color = 'black', alpha = 0.20)\r\n",
        "    plt.text(pd.to_datetime(EO[0]), 50, EO[1], horizontalalignment = 'center', \r\n",
        "             rotation = 45, alpha = 0.20)\r\n",
        "  for EO in Same_restr_EO: \r\n",
        "    plt.axvline(pd.to_datetime(EO[0]), linestyle = '-', color = 'grey', alpha = 0.05)\r\n",
        "    plt.text(pd.to_datetime(EO[0]), 50, EO[1], horizontalalignment = 'center', \r\n",
        "             rotation = 45, alpha = 0.10)\r\n",
        "    \r\n",
        "# Show and close plot:\r\n",
        "\r\n",
        "plt.show()\r\n",
        "plt.close()"
      ],
      "execution_count": 116,
      "outputs": [
        {
          "output_type": "display_data",
          "data": {
            "image/png": "[encoded data removed]",
            "text/plain": [
              "<Figure size 432x288 with 1 Axes>"
            ]
          },
          "metadata": {
            "tags": [],
            "needs_background": "light"
          }
        }
      ]
    },
    {
      "cell_type": "markdown",
      "metadata": {
        "id": "wAPewRzh6LSa"
      },
      "source": [
        "Plot the daily increase in the probability of coming into contact with someone with Covid-19 in a group of **size 6**:"
      ]
    },
    {
      "cell_type": "code",
      "metadata": {
        "colab": {
          "base_uri": "https://localhost:8080/",
          "height": 352
        },
        "id": "sfhOfYKh6LS4",
        "outputId": "762e0009-db5f-496c-d17e-d924edc3a528"
      },
      "source": [
        "# Calculate daily probabilities by both approaches:\r\n",
        "\r\n",
        "probs_6 = []\r\n",
        "for index, row in df_test.iterrows(): \r\n",
        "  probs_6.append((1 - (1 - row['frequentist'])**6)*100)\r\n",
        "for index, row in df_test.iterrows():\r\n",
        "  probs_6.append((1 - (1 - row['bayesian'])**6)*100)\r\n",
        "\r\n",
        "# Plot probabilites by time:\r\n",
        "\r\n",
        "fig, ax = plt.subplots()\r\n",
        "ax.plot(df_test['date'], probs_6[len(df_test['date']):])\r\n",
        "ax.plot(df_test['date'], probs_6[:len(df_test['date'])])\r\n",
        "\r\n",
        "# Set axis labels and title of the graph:\r\n",
        "\r\n",
        "ax.set_xlabel(\"Time\")\r\n",
        "ax.set_ylabel(\"Probability (1 - (1 - P(positive))^6)\")\r\n",
        "ax.set_title('''Time increase in probability of meeting someone with \r\n",
        "Covid-19 in Puerto Rico, in a group of size 6 \\n''')\r\n",
        "\r\n",
        "# Set y-axis limits, rotate x-axis ticks and insert legend:\r\n",
        "\r\n",
        "plt.ylim(0, 100)\r\n",
        "plt.xticks(rotation = 45)\r\n",
        "plt.legend(['Frequentist', 'Bayesian'])\r\n",
        "\r\n",
        "# Show lines marking the date of each executive order, its ID # and whether\r\n",
        "#   it increased ('+'), decreased ('_') or continued previous restrictions:\r\n",
        "\r\n",
        "if show_EOs:\r\n",
        "  for EO in More_restr_EO: \r\n",
        "    plt.axvline(pd.to_datetime(EO[0]), linestyle = '-' , color = 'grey', alpha = 0.15) \r\n",
        "    plt.plot(pd.to_datetime(EO[0]), 70, marker = '+', color = 'black', alpha = 0.20)\r\n",
        "    plt.text(pd.to_datetime(EO[0]), 50, EO[1], horizontalalignment = 'center', \r\n",
        "             rotation = 45, alpha = 0.20)\r\n",
        "  for EO in Less_restr_EO: \r\n",
        "    plt.axvline(pd.to_datetime(EO[0]), linestyle = '-' , color = 'grey', alpha = 0.15)\r\n",
        "    plt.plot(pd.to_datetime(EO[0]), 70, marker = '_', color = 'black', alpha = 0.20)\r\n",
        "    plt.text(pd.to_datetime(EO[0]), 50, EO[1], horizontalalignment = 'center', \r\n",
        "             rotation = 45, alpha = 0.20)\r\n",
        "  for EO in Same_restr_EO: \r\n",
        "    plt.axvline(pd.to_datetime(EO[0]), linestyle = '--', color = 'grey', alpha = 0.05)\r\n",
        "    plt.text(pd.to_datetime(EO[0]), 50, EO[1], horizontalalignment = 'center', \r\n",
        "             rotation = 45, alpha = 0.10)\r\n",
        "    \r\n",
        "# Show and close plot:\r\n",
        "\r\n",
        "plt.show()\r\n",
        "plt.close()"
      ],
      "execution_count": 107,
      "outputs": [
        {
          "output_type": "display_data",
          "data": {
            "image/png": "[encoded data removed]",
            "text/plain": [
              "<Figure size 432x288 with 1 Axes>"
            ]
          },
          "metadata": {
            "tags": [],
            "needs_background": "light"
          }
        }
      ]
    },
    {
      "cell_type": "markdown",
      "metadata": {
        "id": "bIF8OBWQAAtN"
      },
      "source": [
        "Plot the daily increase in the probability of coming into contact with someone with Covid-19 in a group of **size 9**:"
      ]
    },
    {
      "cell_type": "code",
      "metadata": {
        "colab": {
          "base_uri": "https://localhost:8080/",
          "height": 352
        },
        "id": "csq6_hNLAAtu",
        "outputId": "33d5c0ee-c1bf-480a-ccd5-c8d060b96f33"
      },
      "source": [
        "# Calculate daily probabilities by both approaches:\r\n",
        "\r\n",
        "probs_9 = []\r\n",
        "for index, row in df_test.iterrows(): \r\n",
        "  probs_9.append((1 - (1 - row['frequentist'])**9)*100)\r\n",
        "for index, row in df_test.iterrows():\r\n",
        "  probs_9.append((1 - (1 - row['bayesian'])**9)*100)\r\n",
        "\r\n",
        "# Plot probabilites by time:\r\n",
        "\r\n",
        "fig, ax = plt.subplots()\r\n",
        "ax.plot(df_test['date'], probs_9[len(df_test['date']):])\r\n",
        "ax.plot(df_test['date'], probs_9[:len(df_test['date'])])\r\n",
        "\r\n",
        "# Set axis labels and title of the graph:\r\n",
        "\r\n",
        "ax.set_xlabel(\"Time\")\r\n",
        "ax.set_ylabel(\"Probability (1 - (1 - P(positive))^9)\")\r\n",
        "ax.set_title('''Time increase in probability of meeting someone with \r\n",
        "Covid-19 in Puerto Rico, in a group of size 9 \\n''')\r\n",
        "\r\n",
        "# Set y-axis limits, rotate x-axis ticks and insert legend:\r\n",
        "\r\n",
        "plt.ylim(0, 100)\r\n",
        "plt.xticks(rotation = 45)\r\n",
        "plt.legend(['Frequentist', 'Bayesian'])\r\n",
        "\r\n",
        "# Show lines marking the date of each executive order, its ID # and whether\r\n",
        "#   it increased ('+'), decreased ('_') or continued previous restrictions:\r\n",
        "\r\n",
        "if show_EOs:\r\n",
        "  for EO in More_restr_EO: \r\n",
        "    plt.axvline(pd.to_datetime(EO[0]), linestyle = '-' , color = 'grey', alpha = 0.15) \r\n",
        "    plt.plot(pd.to_datetime(EO[0]), 70, marker = '+', color = 'black', alpha = 0.20)\r\n",
        "    plt.text(pd.to_datetime(EO[0]), 50, EO[1], horizontalalignment = 'center', \r\n",
        "             rotation = 45, alpha = 0.20)\r\n",
        "  for EO in Less_restr_EO: \r\n",
        "    plt.axvline(pd.to_datetime(EO[0]), linestyle = '-' , color = 'grey', alpha = 0.15)\r\n",
        "    plt.plot(pd.to_datetime(EO[0]), 70, marker = '_', color = 'black', alpha = 0.20)\r\n",
        "    plt.text(pd.to_datetime(EO[0]), 50, EO[1], horizontalalignment = 'center', \r\n",
        "             rotation = 45, alpha = 0.20)\r\n",
        "  for EO in Same_restr_EO: \r\n",
        "    plt.axvline(pd.to_datetime(EO[0]), linestyle = '--', color = 'grey', alpha = 0.05)\r\n",
        "    plt.text(pd.to_datetime(EO[0]), 50, EO[1], horizontalalignment = 'center', \r\n",
        "             rotation = 45, alpha = 0.10)\r\n",
        "    \r\n",
        "# Show and close plot:\r\n",
        "\r\n",
        "plt.show()\r\n",
        "plt.close()"
      ],
      "execution_count": 108,
      "outputs": [
        {
          "output_type": "display_data",
          "data": {
            "image/png": "[encoded data removed]",
            "text/plain": [
              "<Figure size 432x288 with 1 Axes>"
            ]
          },
          "metadata": {
            "tags": [],
            "needs_background": "light"
          }
        }
      ]
    },
    {
      "cell_type": "markdown",
      "metadata": {
        "id": "2eNxpP_H6Xk1"
      },
      "source": [
        "Plot the daily increase in the probability of coming into contact with someone with Covid-19 in a group of **size 12**:"
      ]
    },
    {
      "cell_type": "code",
      "metadata": {
        "colab": {
          "base_uri": "https://localhost:8080/",
          "height": 352
        },
        "id": "gs9BRANm6Xk3",
        "outputId": "a1866198-baf6-4a40-e33b-272576b28805"
      },
      "source": [
        "# Calculate daily probabilities by both approaches:\r\n",
        "\r\n",
        "probs_12 = []\r\n",
        "for index, row in df_test.iterrows(): \r\n",
        "  probs_12.append((1 - (1 - row['frequentist'])**12)*100)\r\n",
        "for index, row in df_test.iterrows():\r\n",
        "  probs_12.append((1 - (1 - row['bayesian'])**12)*100)\r\n",
        "\r\n",
        "# Plot probabilites by time:\r\n",
        "\r\n",
        "fig, ax = plt.subplots()\r\n",
        "ax.plot(df_test['date'], probs_12[len(df_test['date']):])\r\n",
        "ax.plot(df_test['date'], probs_12[:len(df_test['date'])])\r\n",
        "\r\n",
        "# Set axis labels and title of the graph:\r\n",
        "\r\n",
        "ax.set_xlabel(\"Time\")\r\n",
        "ax.set_ylabel(\"Probability (1 - (1 - P(positive))^12)\")\r\n",
        "ax.set_title('''Time increase in probability of meeting someone with \r\n",
        "Covid-19 in Puerto Rico, in a group of size 12 \\n''')\r\n",
        "\r\n",
        "# Set y-axis limits, rotate x-axis ticks and insert legend:\r\n",
        "\r\n",
        "plt.ylim(0, 100)\r\n",
        "plt.xticks(rotation = 45)\r\n",
        "plt.legend(['Frequentist', 'Bayesian'])\r\n",
        "\r\n",
        "# Show lines marking the date of each executive order, its ID # and whether\r\n",
        "#   it increased ('+'), decreased ('_') or continued previous restrictions:\r\n",
        "\r\n",
        "if show_EOs:\r\n",
        "  for EO in More_restr_EO: \r\n",
        "    plt.axvline(pd.to_datetime(EO[0]), linestyle = '-' , color = 'grey', alpha = 0.15) \r\n",
        "    plt.plot(pd.to_datetime(EO[0]), 70, marker = '+', color = 'black', alpha = 0.20)\r\n",
        "    plt.text(pd.to_datetime(EO[0]), 50, EO[1], horizontalalignment = 'center', \r\n",
        "             rotation = 45, alpha = 0.20)\r\n",
        "  for EO in Less_restr_EO: \r\n",
        "    plt.axvline(pd.to_datetime(EO[0]), linestyle = '-' , color = 'grey', alpha = 0.15)\r\n",
        "    plt.plot(pd.to_datetime(EO[0]), 70, marker = '_', color = 'black', alpha = 0.20)\r\n",
        "    plt.text(pd.to_datetime(EO[0]), 50, EO[1], horizontalalignment = 'center', \r\n",
        "             rotation = 45, alpha = 0.20)\r\n",
        "  for EO in Same_restr_EO: \r\n",
        "    plt.axvline(pd.to_datetime(EO[0]), linestyle = '--', color = 'grey', alpha = 0.05)\r\n",
        "    plt.text(pd.to_datetime(EO[0]), 50, EO[1], horizontalalignment = 'center', \r\n",
        "             rotation = 45, alpha = 0.10)\r\n",
        "    \r\n",
        "# Show and close plot:\r\n",
        "\r\n",
        "plt.show()\r\n",
        "plt.close()"
      ],
      "execution_count": 109,
      "outputs": [
        {
          "output_type": "display_data",
          "data": {
            "image/png": "[encoded data removed]",
            "text/plain": [
              "<Figure size 432x288 with 1 Axes>"
            ]
          },
          "metadata": {
            "tags": [],
            "needs_background": "light"
          }
        }
      ]
    },
    {
      "cell_type": "markdown",
      "metadata": {
        "id": "lao001Jn7B0p"
      },
      "source": [
        "Plot the daily increase in the probability of coming into contact with someone with Covid-19 in a group of **size 50**:"
      ]
    },
    {
      "cell_type": "code",
      "metadata": {
        "colab": {
          "base_uri": "https://localhost:8080/",
          "height": 352
        },
        "id": "6c0PZcFQ7B0q",
        "outputId": "5a9c291b-3288-44dd-f397-a57219318cdd"
      },
      "source": [
        "# Calculate daily probabilities by both approaches:\r\n",
        "\r\n",
        "probs_50 = []\r\n",
        "for index, row in df_test.iterrows(): \r\n",
        "  probs_50.append((1 - (1 - row['frequentist'])**50)*100)\r\n",
        "for index, row in df_test.iterrows():\r\n",
        "  probs_50.append((1 - (1 - row['bayesian'])**50)*100)\r\n",
        "\r\n",
        "# Plot probabilites by time:\r\n",
        "\r\n",
        "fig, ax = plt.subplots()\r\n",
        "ax.plot(df_test['date'], probs_50[len(df_test['date']):])\r\n",
        "ax.plot(df_test['date'], probs_50[:len(df_test['date'])])\r\n",
        "\r\n",
        "# Set axis labels and title of the graph:\r\n",
        "\r\n",
        "ax.set_xlabel(\"Time\")\r\n",
        "ax.set_ylabel(\"Probability (1 - (1 - P(positive))^50)\")\r\n",
        "ax.set_title('''Time increase in probability of meeting someone with \r\n",
        "Covid-19 in Puerto Rico, in a group of size 50 \\n''')\r\n",
        "\r\n",
        "# Set y-axis limits, rotate x-axis ticks and insert legend:\r\n",
        "\r\n",
        "plt.ylim(0, 100)\r\n",
        "plt.xticks(rotation = 45)\r\n",
        "plt.legend(['Frequentist', 'Bayesian'])\r\n",
        "\r\n",
        "# Show lines marking the date of each executive order, its ID # and whether\r\n",
        "#   it increased ('+'), decreased ('_') or continued previous restrictions:\r\n",
        "\r\n",
        "if show_EOs:\r\n",
        "  for EO in More_restr_EO: \r\n",
        "    plt.axvline(pd.to_datetime(EO[0]), linestyle = '-' , color = 'grey', alpha = 0.15) \r\n",
        "    plt.plot(pd.to_datetime(EO[0]), 70, marker = '+', color = 'black', alpha = 0.20)\r\n",
        "    plt.text(pd.to_datetime(EO[0]), 50, EO[1], horizontalalignment = 'center', \r\n",
        "             rotation = 45, alpha = 0.20)\r\n",
        "  for EO in Less_restr_EO: \r\n",
        "    plt.axvline(pd.to_datetime(EO[0]), linestyle = '-' , color = 'grey', alpha = 0.15)\r\n",
        "    plt.plot(pd.to_datetime(EO[0]), 70, marker = '_', color = 'black', alpha = 0.20)\r\n",
        "    plt.text(pd.to_datetime(EO[0]), 50, EO[1], horizontalalignment = 'center', \r\n",
        "             rotation = 45, alpha = 0.20)\r\n",
        "  for EO in Same_restr_EO: \r\n",
        "    plt.axvline(pd.to_datetime(EO[0]), linestyle = '--', color = 'grey', alpha = 0.05)\r\n",
        "    plt.text(pd.to_datetime(EO[0]), 50, EO[1], horizontalalignment = 'center', \r\n",
        "             rotation = 45, alpha = 0.10)\r\n",
        "    \r\n",
        "# Show and close plot:\r\n",
        "\r\n",
        "plt.show()\r\n",
        "plt.close()"
      ],
      "execution_count": 114,
      "outputs": [
        {
          "output_type": "display_data",
          "data": {
            "image/png": "[encoded data removed]",
            "text/plain": [
              "<Figure size 432x288 with 1 Axes>"
            ]
          },
          "metadata": {
            "tags": [],
            "needs_background": "light"
          }
        }
      ]
    },
    {
      "cell_type": "markdown",
      "metadata": {
        "id": "eKNLGGigNoTN"
      },
      "source": [
        "## References:"
      ]
    },
    {
      "cell_type": "markdown",
      "metadata": {
        "id": "Dyi8ChC7RBvw"
      },
      "source": [
        "* Source article of the main probability formulas used in this project:\r\n",
        "\r\n",
        "  * [\"How likely are you to meet someone with Coronavirus?\"](https://towardsdatascience.com/how-likely-are-you-to-meet-someone-with-coronavirus-4522d39487b7), by Marek Galovič\r\n",
        "\r\n",
        "* Datasets:\r\n",
        "\r\n",
        "  * [Coronavirus Resource Center](https://coronavirus.jhu.edu/region/us/puerto-rico) of the John Hopkins University of Medicine\r\n",
        "  * [Centers of Desease Control and Prevention](https://data.cdc.gov/Case-Surveillance/United-States-COVID-19-Cases-and-Deaths-by-State-o/9mfq-cb36)\r\n",
        "\r\n",
        "* [Repository of all referenced executive orders](https://www.estado.pr.gov/en/executive-orders/) provided by the Government of Puerto Rico."
      ]
    }
  ]
}