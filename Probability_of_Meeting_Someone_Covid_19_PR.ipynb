{
  "nbformat": 4,
  "nbformat_minor": 0,
  "metadata": {
    "kernelspec": {
      "name": "python3",
      "display_name": "Python 3.8.5 64-bit",
      "metadata": {
        "interpreter": {
          "hash": "2244ff16718983abe338f56db6af061dbdd47c7e50cd18294cc8a0dc96f790c8"
        }
      }
    },
    "language_info": {
      "codemirror_mode": {
        "name": "ipython",
        "version": 3
      },
      "file_extension": ".py",
      "mimetype": "text/x-python",
      "name": "python",
      "nbconvert_exporter": "python",
      "pygments_lexer": "ipython3",
      "version": "3.8.5-final"
    },
    "colab": {
      "name": "Probability of Meeting Someone with Covid-19 PR.ipynb",
      "provenance": []
    }
  },
  "cells": [
    {
      "cell_type": "markdown",
      "metadata": {
        "id": "OzvRbsVEunvn"
      },
      "source": [
        "# Daily Probability of Meeting Someone With COVID-19 in Puerto Rico (CCOM 3031 Project)\n",
        "\n",
        "**Output**: Python notebook\n",
        "\n",
        "**Documentation**: [Google document](https://docs.google.com/document/d/1F_T1m6ssFgTyEOdtPctYF6wSlt-k85PdKmj9CnLaeUI/edit?usp=sharing)\n",
        "\n",
        "**Date**: 12 - 18 - 2020\n",
        "\n",
        "**Authors**: \n",
        "\n",
        "*   **Facilitator**: Omar Durand Ortiz\n",
        "*   **Spokesperson**: Ildefonso Pacheco Torres\n",
        "*   **Quality Control**: Lian M. Pérez Sierra\n",
        "*   **Process Analyst**: Miguel E. Cruz Molina\n"
      ]
    },
    {
      "cell_type": "markdown",
      "metadata": {
        "id": "F0AkzFdEJsTW"
      },
      "source": [
        "## Introduction:"
      ]
    },
    {
      "cell_type": "markdown",
      "metadata": {
        "id": "QuxqATclJmit"
      },
      "source": [
        "The following notebook contains the code that comprises our calculations and attempt to answer the titular question: What is the probability of meeting someone afflicted with Covid-19 in Puerto Rico? Inspired by Marek Galovič's article [\"How likely are you to meet someone with Coronavirus?\"](https://towardsdatascience.com/how-likely-are-you-to-meet-someone-with-coronavirus-4522d39487b7), our analysis calculates this probability by using the formula $\\small 1 - (1 - P(positive))$, where $\\small P(positive)$ is the probability of having the virus. As in Galovič's analysis, our results follow two different statistical approaches towards calculating $\\small P(positive)$, one frequentist and the other Bayesian.\r\n",
        "\r\n",
        "As with most other data science endeavours, this project is comprised by distinct parts devoted to data collection, processing and visualization. Our calculations employ the data recorded by the John Hopkins University of Medicine's [Coronavirus Resource Center](https://coronavirus.jhu.edu/region/us/puerto-rico) for Puerto Rico, which is updated on a daily basis with the exact amounts of new confirmed cases and deaths and total number of tests recorded on the island since the March, 16th. Previous attempts were made to use the data collected by the [Centers of Desease Control and Prevention](https://data.cdc.gov/Case-Surveillance/United-States-COVID-19-Cases-and-Deaths-by-State-o/9mfq-cb36), but said database was eventually considered inadequate, as it didn't include the daily count of negative cases and thus couldn't be used to calculate $\\small P(positive)$. Both dataset extraction processes can be found below.\r\n",
        "\r\n",
        "Finally, after calculating $\\small P(positive)$ under both statistical approaches for our dataset, our analysis ends with calculating and displaying the titular probability in two different ways: (1.) plotting the frequentist and Bayesian probabilities of meeting someone with Covid-19 in a group of size $\\small N$, given the probability of having Covid-19 for the last day in the database (i.e., today), and (2.) plotting the probabilities by time (all the entries in the database from the last to the most recent) for fixed group sizes 3, 6, 9, 12 and 50."
      ]
    },
    {
      "cell_type": "markdown",
      "metadata": {
        "id": "erak5aitXa5A"
      },
      "source": [
        "## Setup Process:"
      ]
    },
    {
      "cell_type": "markdown",
      "metadata": {
        "id": "miYx5nE8XxRS"
      },
      "source": [
        "Install sodapy library used in the code if necessary:"
      ]
    },
    {
      "cell_type": "code",
      "metadata": {
        "colab": {
          "base_uri": "https://localhost:8080/"
        },
        "id": "GQ18Kd5F3uKe",
        "outputId": "275a004a-bd00-45f8-d1e3-6d643917e945"
      },
      "source": [
        "!pip install sodapy"
      ],
      "execution_count": null,
      "outputs": []
    },
    {
      "cell_type": "markdown",
      "metadata": {
        "id": "Wim-gs5mcVXY"
      },
      "source": [
        "Import relevant libraries:"
      ]
    },
    {
      "cell_type": "code",
      "metadata": {
        "id": "isTfAoFkT-wE"
      },
      "source": [
        "from sodapy import Socrata\n",
        "import pandas as pd\n",
        "import numpy as np\n",
        "import datetime\n",
        "import matplotlib.pyplot as plt"
      ],
      "execution_count": null,
      "outputs": []
    },
    {
      "cell_type": "markdown",
      "metadata": {
        "id": "17lv4wnbX4Na"
      },
      "source": [
        "## Data extraction and cleaning of old (CDC) dataset:"
      ]
    },
    {
      "cell_type": "markdown",
      "metadata": {
        "id": "m1P-oxcn2Z18"
      },
      "source": [
        "Population of Puerto Rico: "
      ]
    },
    {
      "cell_type": "code",
      "metadata": {
        "id": "0BgNuO6l2Z1_"
      },
      "source": [
        "population = 3193694"
      ],
      "execution_count": null,
      "outputs": []
    },
    {
      "cell_type": "markdown",
      "metadata": {
        "id": "hqbBnImlcgPO"
      },
      "source": [
        "Read data from CDC:"
      ]
    },
    {
      "cell_type": "code",
      "metadata": {
        "id": "aHcPsVM8T-wW"
      },
      "source": [
        "df = pd.read_json(\"https://data.cdc.gov/resource/9mfq-cb36.json?state=PR\")"
      ],
      "execution_count": null,
      "outputs": []
    },
    {
      "cell_type": "markdown",
      "metadata": {
        "id": "N8irMmXkdb93"
      },
      "source": [
        "Confirm that PR is the only state included in the data:"
      ]
    },
    {
      "cell_type": "code",
      "metadata": {
        "colab": {
          "base_uri": "https://localhost:8080/"
        },
        "id": "FhF2PAXQT-wc",
        "outputId": "9264882c-82ac-4054-b244-3760db286810"
      },
      "source": [
        "df.state.unique()"
      ],
      "execution_count": null,
      "outputs": []
    },
    {
      "cell_type": "markdown",
      "metadata": {
        "id": "oF_8cj6-MUgC"
      },
      "source": [
        "Sort values by submission date:"
      ]
    },
    {
      "cell_type": "code",
      "metadata": {
        "id": "FEEjSP0PnMq3"
      },
      "source": [
        "df.sort_values(by = 'submission_date', inplace = True)"
      ],
      "execution_count": null,
      "outputs": []
    },
    {
      "cell_type": "markdown",
      "metadata": {
        "id": "smGnu_r0NMVX"
      },
      "source": [
        "Replace all null values:\n",
        "\n",
        "* First, with the previous values for each variable in the data frame.\n",
        "\n",
        "* In the case of the number of *confirmed cases*, which would otherwise stay as null in the first few rows, replace it with the number of *total cases* for all those rows. \n",
        "\n",
        "* In the case of the number of *probable cases*, do the same, replacing it with the number of total cases minus the number of confirmed cases for all rows where it is null.\n",
        "\n",
        "This procedure stems from the presumption that (1.) once these variables started being counted, the counts for rows with null values must have stayed the same than that of the previous rows (this is only true for accumulative variables, i.e. `tot_cases`, `conf_cases`, `prob_cases`, `tot_death`, `conf_death`, and `prob_death`) and (2.) before a distinction was made between confirmed and probable cases, every recorded case was treated as a confirmed case."
      ]
    },
    {
      "cell_type": "code",
      "metadata": {
        "id": "CcTlqjk_whWH"
      },
      "source": [
        "df = df.fillna(method = 'ffill')\n",
        "\n",
        "df['conf_cases'] = df['conf_cases'].fillna(df['tot_cases']) \n",
        "df['prob_cases'] = df['prob_cases'].fillna(df['tot_cases'] - df['conf_cases'])"
      ],
      "execution_count": null,
      "outputs": []
    },
    {
      "cell_type": "markdown",
      "metadata": {
        "id": "i9VCFNiIckri"
      },
      "source": [
        "Examine first 5 rows and last 5 rows:"
      ]
    },
    {
      "cell_type": "code",
      "metadata": {
        "colab": {
          "base_uri": "https://localhost:8080/",
          "height": 309
        },
        "id": "FGRq0GXwT-wZ",
        "outputId": "9702138d-329f-4918-92f2-ef23ed17bd3b"
      },
      "source": [
        "df.head(5)"
      ],
      "execution_count": null,
      "outputs": []
    },
    {
      "cell_type": "code",
      "metadata": {
        "colab": {
          "base_uri": "https://localhost:8080/",
          "height": 309
        },
        "id": "JqjH9YQRcxQs",
        "outputId": "ecdca10a-dc93-47c0-d40a-837a199a92a2"
      },
      "source": [
        "df.tail(5)"
      ],
      "execution_count": null,
      "outputs": []
    },
    {
      "cell_type": "markdown",
      "metadata": {
        "id": "1O5oxKB32g_8"
      },
      "source": [
        "Examine characteristics of the dataset: "
      ]
    },
    {
      "cell_type": "code",
      "metadata": {
        "colab": {
          "base_uri": "https://localhost:8080/",
          "height": 297
        },
        "id": "13VAF9NyT-wd",
        "outputId": "a722b131-3ff7-45a0-c893-bb57553f07aa"
      },
      "source": [
        "df.describe()"
      ],
      "execution_count": null,
      "outputs": []
    },
    {
      "cell_type": "markdown",
      "metadata": {
        "id": "ejA2SPrr2sMB"
      },
      "source": [
        "Calculate frenquentist and Bayesian results of `P(positive)` for all rows of the dataset (these formulas are explained in more detail in the \"Probability of meeting someone with Covid-19 in Puerto Rico\" section:"
      ]
    },
    {
      "cell_type": "code",
      "metadata": {
        "id": "2HGTBhE0ULPr"
      },
      "source": [
        "df['freq_pos'] = df['conf_cases']/population"
      ],
      "execution_count": null,
      "outputs": []
    },
    {
      "cell_type": "code",
      "metadata": {
        "id": "6r_sSF30VQNA"
      },
      "source": [
        "df['bayes_pos'] = 2*df['freq_pos']"
      ],
      "execution_count": null,
      "outputs": []
    },
    {
      "cell_type": "markdown",
      "metadata": {
        "id": "4heRMSJnYdD6"
      },
      "source": [
        "## Data extraction and cleaning of new (John Hopkins) dataset:"
      ]
    },
    {
      "cell_type": "markdown",
      "metadata": {
        "id": "a5fHmDH5SBJJ"
      },
      "source": [
        "Population of Puerto Rico: "
      ]
    },
    {
      "cell_type": "code",
      "metadata": {
        "id": "qq3UNIpOT-wg"
      },
      "source": [
        "population = 3193694"
      ],
      "execution_count": null,
      "outputs": []
    },
    {
      "cell_type": "markdown",
      "metadata": {
        "id": "UuO3mpfsu-F8"
      },
      "source": [
        "Read statistics with total tested population (positive and negative) in Puerto Rico from using John Hopkins API:"
      ]
    },
    {
      "cell_type": "code",
      "metadata": {
        "id": "ONIIrxgZu-F8"
      },
      "source": [
        "df_test = pd.read_json(\"https://api.covidtracking.com/v1/states/pr/daily.json\")"
      ],
      "execution_count": null,
      "outputs": []
    },
    {
      "cell_type": "markdown",
      "metadata": {
        "id": "_ktB-0drY6Aa"
      },
      "source": [
        "Modify `date` variable to contain Date objects in the format `year-month-day`, instead of integers:"
      ]
    },
    {
      "cell_type": "code",
      "metadata": {
        "id": "ujiv0ck1TkJs"
      },
      "source": [
        "newdates = []\r\n",
        "\r\n",
        "for index, row in df_test.iterrows():\r\n",
        "  date = datetime.date(year  = int(str(row['date'])[0:4]),\r\n",
        "                       month = int(str(row['date'])[4:6]),\r\n",
        "                       day   = int(str(row['date'])[6:8]))\r\n",
        "  newdates.append(date)\r\n",
        "\r\n",
        "df_test['date'] = newdates"
      ],
      "execution_count": null,
      "outputs": []
    },
    {
      "cell_type": "markdown",
      "metadata": {
        "id": "AYSQevM3v3AX"
      },
      "source": [
        "Sort the data by date, from the first day recorded to the last:"
      ]
    },
    {
      "cell_type": "code",
      "metadata": {
        "id": "2RWvndDhwqAL"
      },
      "source": [
        "df_test.sort_values(by = 'date', inplace = True)"
      ],
      "execution_count": null,
      "outputs": []
    },
    {
      "cell_type": "markdown",
      "metadata": {
        "id": "xPLPP2T8u-F9"
      },
      "source": [
        "See the first five rows of the dataframe and the last five:"
      ]
    },
    {
      "cell_type": "code",
      "metadata": {
        "scrolled": true,
        "colab": {
          "base_uri": "https://localhost:8080/",
          "height": 309
        },
        "id": "b7Zt3sBvu-F9",
        "outputId": "c4972ba7-fdea-4370-cfeb-b361079f8c59"
      },
      "source": [
        "df_test.head(5)"
      ],
      "execution_count": null,
      "outputs": []
    },
    {
      "cell_type": "code",
      "metadata": {
        "colab": {
          "base_uri": "https://localhost:8080/",
          "height": 309
        },
        "id": "SbMfYA4-xA-B",
        "outputId": "5995185e-95e3-47b0-d4c4-99b9e8291802"
      },
      "source": [
        "df_test.tail(5)"
      ],
      "execution_count": null,
      "outputs": []
    },
    {
      "cell_type": "markdown",
      "metadata": {
        "id": "lCTcYTeDu-F-"
      },
      "source": [
        "## Probability of meeting someone with Covid-19 in Puerto Rico:\r\n",
        "\r\n",
        "\r\n",
        "The probability of encountering someone with Covid-19 in any one day is assumed to be the probability of someone in a group of $\\small N$ people having the virus, calculated as $\\small 1 - (1 - P(positive))^N$. As mentioned in the introduction, our study considers two different statistical approaches to finding the corresponding value of $\\small P(positive)$ for each day: one frequentist, the other Bayesian. "
      ]
    },
    {
      "cell_type": "markdown",
      "metadata": {
        "id": "ObBvyO3WaQfI"
      },
      "source": [
        "### Frequentist approach to calculating $\\small P(positive)$: \r\n",
        "\r\n",
        "Using the frequentist approach, the probability is calculated by dividing the number of recorded positive (or \"active\") cases by the total size of the population of Puerto Rico."
      ]
    },
    {
      "cell_type": "code",
      "metadata": {
        "id": "ImI1GWqEu-F_"
      },
      "source": [
        "df_test['frequentist'] = df_test['positive']/population\n",
        "#df_test.tail(5)"
      ],
      "execution_count": null,
      "outputs": []
    },
    {
      "cell_type": "markdown",
      "metadata": {
        "id": "lmCjlChbu-F_"
      },
      "source": [
        "**Frequentist value of $\\small P(positive)$ for today**:\n",
        "\n",
        "Since the data frame is ordered from the first to the most recent day recorded, and we assume that the dataset is continuously being updated, the probability $\\small P(positive)$ under the frequentist approach is the probability recorded in the last row of the data frame:"
      ]
    },
    {
      "cell_type": "code",
      "metadata": {
        "colab": {
          "base_uri": "https://localhost:8080/"
        },
        "id": "W6YC8MmbfPPI",
        "outputId": "ce5080e9-b04f-48c5-be44-71897c2c1c80"
      },
      "source": [
        "freq_prob = df_test.iloc[-1].at['frequentist']\r\n",
        "print(freq_prob)"
      ],
      "execution_count": null,
      "outputs": []
    },
    {
      "cell_type": "markdown",
      "metadata": {
        "id": "_1at-WMJgxrJ"
      },
      "source": [
        "### Bayesian approach to calculating $\\small P(positive)$: \r\n",
        "\r\n",
        "Under the Bayesian approach, the probability of being positive to Covid-19 is calculated as $\\small P(positive) = P(positive|tested) \\times P(tested) / P(tested|positive)$. In this context, $\\small P(positive|tested)$ is the number of confirmed cases divided by the total of cases, and $\\small P(tested)$ is the number of total tests divided by the population of Puerto Rico. Thus, the numerator of the formula is reduced to the number of confirmed cases over the total population, the same as the frequentist probability. The denominator is chosen to be $\\small 0.5$, with the somewhat pessimistic assumption that only half of the people with Covid-19 will get tested for the virus. Therefore, the original formula is simplified as `2 * freq_prob`. "
      ]
    },
    {
      "cell_type": "code",
      "metadata": {
        "id": "K7N-tfrlgxrL"
      },
      "source": [
        "df_test['bayesian'] = 2*df_test['frequentist']\n",
        "#df_test.tail(5)"
      ],
      "execution_count": null,
      "outputs": []
    },
    {
      "cell_type": "markdown",
      "metadata": {
        "id": "RWJVL9tIgxrM"
      },
      "source": [
        "**Bayesian value of $\\small P(positive)$ for today**:\n",
        "\n",
        "As before, the probability $\\small P(positive)$ under the Bayesian approach is the probability recorded in the last row of the data frame:"
      ]
    },
    {
      "cell_type": "code",
      "metadata": {
        "colab": {
          "base_uri": "https://localhost:8080/"
        },
        "id": "DSOBG941gxrN",
        "outputId": "fd4f69d3-209b-4c1f-b96f-d35ff29d3978"
      },
      "source": [
        "bayes_prob = df_test.iloc[-1].at['bayesian']\r\n",
        "print(bayes_prob)"
      ],
      "execution_count": null,
      "outputs": []
    },
    {
      "cell_type": "markdown",
      "metadata": {
        "id": "W_GRaqOKlDcI"
      },
      "source": [
        "### Plotting the probability by group size for today:\r\n",
        "\r\n",
        "Having extracted the values of $\\small P(positive)$ for today for both statistical approaches, we can now calculate and plot the titular probability for group sizes 1 through 200. We do this by building a new data frame with the group sizes, adding the probabilities, and plotting them on a single graph."
      ]
    },
    {
      "cell_type": "markdown",
      "metadata": {
        "id": "1ulX90Nbu-GA"
      },
      "source": [
        "Creating group size data frame:"
      ]
    },
    {
      "cell_type": "code",
      "metadata": {
        "id": "5h03hJznu-GB"
      },
      "source": [
        "group_size = list(range(1,201))\n",
        "group_size_df = pd.DataFrame(group_size)\n",
        "group_size_df = group_size_df.rename(columns={0: 'group_size'})"
      ],
      "execution_count": null,
      "outputs": []
    },
    {
      "cell_type": "markdown",
      "metadata": {
        "id": "D3I-gA70u-GB"
      },
      "source": [
        "Calculating the probability by group size, using the frequentist approach:"
      ]
    },
    {
      "cell_type": "code",
      "metadata": {
        "id": "m8yBPo06u-GC"
      },
      "source": [
        "group_size_df['Freq_Prob'] = (1 - (1 - freq_prob)**group_size_df['group_size'])*100\n",
        "#print(group_size_df)\n",
        "#plt.plot(group_size_df['group_size'], group_size_df['Freq_Prob'])"
      ],
      "execution_count": null,
      "outputs": []
    },
    {
      "cell_type": "markdown",
      "metadata": {
        "id": "Wh4_asEvpS_I"
      },
      "source": [
        "Calculating the probability by group size, using the Bayesian approach:"
      ]
    },
    {
      "cell_type": "code",
      "metadata": {
        "id": "6b1IJ55qpWvj"
      },
      "source": [
        "group_size_df['Bayes_Prob'] = (1 - (1 - bayes_prob)**group_size_df['group_size'])*100\r\n",
        "#print(group_size_df)\r\n",
        "#plt.plot(group_size_df['group_size'], group_size_df['Bayes_Prob'])"
      ],
      "execution_count": null,
      "outputs": []
    },
    {
      "cell_type": "markdown",
      "metadata": {
        "id": "hyfKLDYFqoic"
      },
      "source": [
        "Plot the probability of coming into contact with someone with Covid-19 in a group of size $\\small N$, given the probability of someone having Covid-19 calculated for today under both the frequentist and Bayesian approaches:"
      ]
    },
    {
      "cell_type": "code",
      "metadata": {
        "colab": {
          "base_uri": "https://localhost:8080/",
          "height": 325
        },
        "id": "RU9qQtmZq_vr",
        "outputId": "c4f7606e-9926-486d-f68a-108206f9c31b"
      },
      "source": [
        "fig, ax = plt.subplots()\r\n",
        "\r\n",
        "ax.plot(group_size_df['group_size'], group_size_df['Freq_Prob'])\r\n",
        "ax.plot(group_size_df['group_size'], group_size_df['Bayes_Prob'])\r\n",
        "\r\n",
        "ax.set_xlabel(\"Group size N\")\r\n",
        "ax.set_ylabel(\"Probability (1 - (1 - P(positive))^N)\")\r\n",
        "ax.set_title('''Today's probability of meeting someone with Covid-19 \r\n",
        "in Puerto Rico, given group size N \\n''')\r\n",
        "plt.legend(['Frequentist', 'Bayesian'])\r\n",
        "\r\n",
        "plt.show()\r\n",
        "plt.close()"
      ],
      "execution_count": null,
      "outputs": []
    },
    {
      "cell_type": "markdown",
      "metadata": {
        "id": "ld1GkaPcs34e"
      },
      "source": [
        "### Plotting the probability by time for a range of fixed group sizes:\r\n",
        "\r\n",
        "Having calculated the values of $\\small P(positive)$ for all the entries (days) in the dataset, we can also calculate and plot the daily increment in the probabilities of someone having Covid-19 in a group of fixed size. For this project, we generate the plots for groups of sizes 3, 6, 9, 12 and 50. We also allow the user to display in each plot the dates when 16 executive orders concerning the virus were passed in Puerto Rico, further dividing them between those that increased, decreased or extended previous state-enforced restrictions and lockdown measures. "
      ]
    },
    {
      "cell_type": "markdown",
      "metadata": {
        "id": "AqHiwz2GZhpd"
      },
      "source": [
        "Group together the dates and ID numbers of the executive orders by which of them increased, decreased or extended previous restrictions:"
      ]
    },
    {
      "cell_type": "code",
      "metadata": {
        "id": "D5bRX4w6ZiKT"
      },
      "source": [
        "# Executive orders that increased restrictions: 020, 029, 038, 054, 080, 087, 093\r\n",
        "\r\n",
        "More_restr_EO = [(\"2020-03-15\", \"020\"), (\"2020-03-30\", \"029\"), (\"2020-05-01\", \"038\"), (\"2020-07-16\", \"054\"), \r\n",
        "                 (\"2020-11-13\", \"080\"), (\"2020-12-03\", \"087\"), (\"2020-12-18\", \"093\")]\r\n",
        "\r\n",
        "# Executive orders that decreased restrictions: 041, 044, 048, 062\r\n",
        "\r\n",
        "Less_restr_EO = [(\"2020-05-21\", \"041\"), (\"2020-06-12\", \"044\"), (\"2020-06-29\", \"048\"), (\"2020-08-22\", \"062\")]\r\n",
        "\r\n",
        "# Executive orders that extended previous restrictions: 033, 060, 066, 076, 077\r\n",
        "\r\n",
        "Same_restr_EO = [(\"2020-04-12\", \"033\"), (\"2020-08-01\", \"060\"), (\"2020-09-11\", \"066\"), \r\n",
        "                 (\"2020-10-01\", \"076\"), (\"2020-10-16\", \"077\")]"
      ],
      "execution_count": null,
      "outputs": []
    },
    {
      "cell_type": "markdown",
      "metadata": {
        "id": "MDTUHSDKpaqU"
      },
      "source": [
        "Decide whether to display the datetimes of the executive orders in the following plots, defined by the Boolean variable `show_EOs` "
      ]
    },
    {
      "cell_type": "code",
      "metadata": {
        "id": "0QyOXx01pbAF"
      },
      "source": [
        "show_EOs = True"
      ],
      "execution_count": null,
      "outputs": []
    },
    {
      "cell_type": "markdown",
      "metadata": {
        "id": "JeRqbZB-2zj9"
      },
      "source": [
        "Plot the daily increase in the probability of coming into contact with someone with Covid-19 in a group of **size 3**:"
      ]
    },
    {
      "cell_type": "code",
      "metadata": {
        "colab": {
          "base_uri": "https://localhost:8080/",
          "height": 352
        },
        "id": "-8UlRDIs2zkh",
        "outputId": "e103cc1c-88b8-4080-a60c-bb3da27a72a3"
      },
      "source": [
        "# Calculate daily probabilities by both approaches:\r\n",
        "\r\n",
        "probs_3 = []\r\n",
        "for index, row in df_test.iterrows(): \r\n",
        "  probs_3.append((1 - (1 - row['frequentist'])**3)*100)\r\n",
        "for index, row in df_test.iterrows():\r\n",
        "  probs_3.append((1 - (1 - row['bayesian'])**3)*100)\r\n",
        "\r\n",
        "# Plot probabilites by time:\r\n",
        "\r\n",
        "fig, ax = plt.subplots()\r\n",
        "ax.plot(df_test['date'], probs_3[len(df_test['date']):])\r\n",
        "ax.plot(df_test['date'], probs_3[:len(df_test['date'])])\r\n",
        "\r\n",
        "# Set axis labels and title of the graph:\r\n",
        "\r\n",
        "ax.set_xlabel(\"Time\")\r\n",
        "ax.set_ylabel(\"Probability (1 - (1 - P(positive))^3)\")\r\n",
        "ax.set_title('''Time increase in probability of meeting someone with \r\n",
        "Covid-19 in Puerto Rico, in a group of size 3 \\n''')\r\n",
        "\r\n",
        "# Set y-axis limits, rotate x-axis ticks and insert legend:\r\n",
        "\r\n",
        "plt.ylim(0, 100)\r\n",
        "plt.xticks(rotation = 45)\r\n",
        "plt.legend(['Frequentist', 'Bayesian'])\r\n",
        "\r\n",
        "# Show lines marking the date of each executive order, its ID # and whether\r\n",
        "#   it increased ('+'), decreased ('_') or continued previous restrictions:\r\n",
        "\r\n",
        "if show_EOs:\r\n",
        "  for EO in More_restr_EO: \r\n",
        "    plt.axvline(pd.to_datetime(EO[0]), linestyle = '-' , color = 'grey', alpha = 0.15) \r\n",
        "    plt.plot(pd.to_datetime(EO[0]), 70, marker = '+', color = 'black', alpha = 0.20)\r\n",
        "    plt.text(pd.to_datetime(EO[0]), 50, EO[1], horizontalalignment = 'center', \r\n",
        "             rotation = 45, alpha = 0.20)\r\n",
        "  for EO in Less_restr_EO: \r\n",
        "    plt.axvline(pd.to_datetime(EO[0]), linestyle = '-' , color = 'grey', alpha = 0.15)\r\n",
        "    plt.plot(pd.to_datetime(EO[0]), 70, marker = '_', color = 'black', alpha = 0.20)\r\n",
        "    plt.text(pd.to_datetime(EO[0]), 50, EO[1], horizontalalignment = 'center', \r\n",
        "             rotation = 45, alpha = 0.20)\r\n",
        "  for EO in Same_restr_EO: \r\n",
        "    plt.axvline(pd.to_datetime(EO[0]), linestyle = '-', color = 'grey', alpha = 0.05)\r\n",
        "    plt.text(pd.to_datetime(EO[0]), 50, EO[1], horizontalalignment = 'center', \r\n",
        "             rotation = 45, alpha = 0.10)\r\n",
        "    \r\n",
        "# Show and close plot:\r\n",
        "\r\n",
        "plt.show()\r\n",
        "plt.close()"
      ],
      "execution_count": null,
      "outputs": []
    },
    {
      "cell_type": "markdown",
      "metadata": {
        "id": "wAPewRzh6LSa"
      },
      "source": [
        "Plot the daily increase in the probability of coming into contact with someone with Covid-19 in a group of **size 6**:"
      ]
    },
    {
      "cell_type": "code",
      "metadata": {
        "colab": {
          "base_uri": "https://localhost:8080/",
          "height": 352
        },
        "id": "sfhOfYKh6LS4",
        "outputId": "762e0009-db5f-496c-d17e-d924edc3a528"
      },
      "source": [
        "# Calculate daily probabilities by both approaches:\r\n",
        "\r\n",
        "probs_6 = []\r\n",
        "for index, row in df_test.iterrows(): \r\n",
        "  probs_6.append((1 - (1 - row['frequentist'])**6)*100)\r\n",
        "for index, row in df_test.iterrows():\r\n",
        "  probs_6.append((1 - (1 - row['bayesian'])**6)*100)\r\n",
        "\r\n",
        "# Plot probabilites by time:\r\n",
        "\r\n",
        "fig, ax = plt.subplots()\r\n",
        "ax.plot(df_test['date'], probs_6[len(df_test['date']):])\r\n",
        "ax.plot(df_test['date'], probs_6[:len(df_test['date'])])\r\n",
        "\r\n",
        "# Set axis labels and title of the graph:\r\n",
        "\r\n",
        "ax.set_xlabel(\"Time\")\r\n",
        "ax.set_ylabel(\"Probability (1 - (1 - P(positive))^6)\")\r\n",
        "ax.set_title('''Time increase in probability of meeting someone with \r\n",
        "Covid-19 in Puerto Rico, in a group of size 6 \\n''')\r\n",
        "\r\n",
        "# Set y-axis limits, rotate x-axis ticks and insert legend:\r\n",
        "\r\n",
        "plt.ylim(0, 100)\r\n",
        "plt.xticks(rotation = 45)\r\n",
        "plt.legend(['Frequentist', 'Bayesian'])\r\n",
        "\r\n",
        "# Show lines marking the date of each executive order, its ID # and whether\r\n",
        "#   it increased ('+'), decreased ('_') or continued previous restrictions:\r\n",
        "\r\n",
        "if show_EOs:\r\n",
        "  for EO in More_restr_EO: \r\n",
        "    plt.axvline(pd.to_datetime(EO[0]), linestyle = '-' , color = 'grey', alpha = 0.15) \r\n",
        "    plt.plot(pd.to_datetime(EO[0]), 70, marker = '+', color = 'black', alpha = 0.20)\r\n",
        "    plt.text(pd.to_datetime(EO[0]), 50, EO[1], horizontalalignment = 'center', \r\n",
        "             rotation = 45, alpha = 0.20)\r\n",
        "  for EO in Less_restr_EO: \r\n",
        "    plt.axvline(pd.to_datetime(EO[0]), linestyle = '-' , color = 'grey', alpha = 0.15)\r\n",
        "    plt.plot(pd.to_datetime(EO[0]), 70, marker = '_', color = 'black', alpha = 0.20)\r\n",
        "    plt.text(pd.to_datetime(EO[0]), 50, EO[1], horizontalalignment = 'center', \r\n",
        "             rotation = 45, alpha = 0.20)\r\n",
        "  for EO in Same_restr_EO: \r\n",
        "    plt.axvline(pd.to_datetime(EO[0]), linestyle = '--', color = 'grey', alpha = 0.05)\r\n",
        "    plt.text(pd.to_datetime(EO[0]), 50, EO[1], horizontalalignment = 'center', \r\n",
        "             rotation = 45, alpha = 0.10)\r\n",
        "    \r\n",
        "# Show and close plot:\r\n",
        "\r\n",
        "plt.show()\r\n",
        "plt.close()"
      ],
      "execution_count": null,
      "outputs": []
    },
    {
      "cell_type": "markdown",
      "metadata": {
        "id": "bIF8OBWQAAtN"
      },
      "source": [
        "Plot the daily increase in the probability of coming into contact with someone with Covid-19 in a group of **size 9**:"
      ]
    },
    {
      "cell_type": "code",
      "metadata": {
        "colab": {
          "base_uri": "https://localhost:8080/",
          "height": 352
        },
        "id": "csq6_hNLAAtu",
        "outputId": "33d5c0ee-c1bf-480a-ccd5-c8d060b96f33"
      },
      "source": [
        "# Calculate daily probabilities by both approaches:\r\n",
        "\r\n",
        "probs_9 = []\r\n",
        "for index, row in df_test.iterrows(): \r\n",
        "  probs_9.append((1 - (1 - row['frequentist'])**9)*100)\r\n",
        "for index, row in df_test.iterrows():\r\n",
        "  probs_9.append((1 - (1 - row['bayesian'])**9)*100)\r\n",
        "\r\n",
        "# Plot probabilites by time:\r\n",
        "\r\n",
        "fig, ax = plt.subplots()\r\n",
        "ax.plot(df_test['date'], probs_9[len(df_test['date']):])\r\n",
        "ax.plot(df_test['date'], probs_9[:len(df_test['date'])])\r\n",
        "\r\n",
        "# Set axis labels and title of the graph:\r\n",
        "\r\n",
        "ax.set_xlabel(\"Time\")\r\n",
        "ax.set_ylabel(\"Probability (1 - (1 - P(positive))^9)\")\r\n",
        "ax.set_title('''Time increase in probability of meeting someone with \r\n",
        "Covid-19 in Puerto Rico, in a group of size 9 \\n''')\r\n",
        "\r\n",
        "# Set y-axis limits, rotate x-axis ticks and insert legend:\r\n",
        "\r\n",
        "plt.ylim(0, 100)\r\n",
        "plt.xticks(rotation = 45)\r\n",
        "plt.legend(['Frequentist', 'Bayesian'])\r\n",
        "\r\n",
        "# Show lines marking the date of each executive order, its ID # and whether\r\n",
        "#   it increased ('+'), decreased ('_') or continued previous restrictions:\r\n",
        "\r\n",
        "if show_EOs:\r\n",
        "  for EO in More_restr_EO: \r\n",
        "    plt.axvline(pd.to_datetime(EO[0]), linestyle = '-' , color = 'grey', alpha = 0.15) \r\n",
        "    plt.plot(pd.to_datetime(EO[0]), 70, marker = '+', color = 'black', alpha = 0.20)\r\n",
        "    plt.text(pd.to_datetime(EO[0]), 50, EO[1], horizontalalignment = 'center', \r\n",
        "             rotation = 45, alpha = 0.20)\r\n",
        "  for EO in Less_restr_EO: \r\n",
        "    plt.axvline(pd.to_datetime(EO[0]), linestyle = '-' , color = 'grey', alpha = 0.15)\r\n",
        "    plt.plot(pd.to_datetime(EO[0]), 70, marker = '_', color = 'black', alpha = 0.20)\r\n",
        "    plt.text(pd.to_datetime(EO[0]), 50, EO[1], horizontalalignment = 'center', \r\n",
        "             rotation = 45, alpha = 0.20)\r\n",
        "  for EO in Same_restr_EO: \r\n",
        "    plt.axvline(pd.to_datetime(EO[0]), linestyle = '--', color = 'grey', alpha = 0.05)\r\n",
        "    plt.text(pd.to_datetime(EO[0]), 50, EO[1], horizontalalignment = 'center', \r\n",
        "             rotation = 45, alpha = 0.10)\r\n",
        "    \r\n",
        "# Show and close plot:\r\n",
        "\r\n",
        "plt.show()\r\n",
        "plt.close()"
      ],
      "execution_count": null,
      "outputs": []
    },
    {
      "cell_type": "markdown",
      "metadata": {
        "id": "2eNxpP_H6Xk1"
      },
      "source": [
        "Plot the daily increase in the probability of coming into contact with someone with Covid-19 in a group of **size 12**:"
      ]
    },
    {
      "cell_type": "code",
      "metadata": {
        "colab": {
          "base_uri": "https://localhost:8080/",
          "height": 352
        },
        "id": "gs9BRANm6Xk3",
        "outputId": "a1866198-baf6-4a40-e33b-272576b28805"
      },
      "source": [
        "# Calculate daily probabilities by both approaches:\r\n",
        "\r\n",
        "probs_12 = []\r\n",
        "for index, row in df_test.iterrows(): \r\n",
        "  probs_12.append((1 - (1 - row['frequentist'])**12)*100)\r\n",
        "for index, row in df_test.iterrows():\r\n",
        "  probs_12.append((1 - (1 - row['bayesian'])**12)*100)\r\n",
        "\r\n",
        "# Plot probabilites by time:\r\n",
        "\r\n",
        "fig, ax = plt.subplots()\r\n",
        "ax.plot(df_test['date'], probs_12[len(df_test['date']):])\r\n",
        "ax.plot(df_test['date'], probs_12[:len(df_test['date'])])\r\n",
        "\r\n",
        "# Set axis labels and title of the graph:\r\n",
        "\r\n",
        "ax.set_xlabel(\"Time\")\r\n",
        "ax.set_ylabel(\"Probability (1 - (1 - P(positive))^12)\")\r\n",
        "ax.set_title('''Time increase in probability of meeting someone with \r\n",
        "Covid-19 in Puerto Rico, in a group of size 12 \\n''')\r\n",
        "\r\n",
        "# Set y-axis limits, rotate x-axis ticks and insert legend:\r\n",
        "\r\n",
        "plt.ylim(0, 100)\r\n",
        "plt.xticks(rotation = 45)\r\n",
        "plt.legend(['Frequentist', 'Bayesian'])\r\n",
        "\r\n",
        "# Show lines marking the date of each executive order, its ID # and whether\r\n",
        "#   it increased ('+'), decreased ('_') or continued previous restrictions:\r\n",
        "\r\n",
        "if show_EOs:\r\n",
        "  for EO in More_restr_EO: \r\n",
        "    plt.axvline(pd.to_datetime(EO[0]), linestyle = '-' , color = 'grey', alpha = 0.15) \r\n",
        "    plt.plot(pd.to_datetime(EO[0]), 70, marker = '+', color = 'black', alpha = 0.20)\r\n",
        "    plt.text(pd.to_datetime(EO[0]), 50, EO[1], horizontalalignment = 'center', \r\n",
        "             rotation = 45, alpha = 0.20)\r\n",
        "  for EO in Less_restr_EO: \r\n",
        "    plt.axvline(pd.to_datetime(EO[0]), linestyle = '-' , color = 'grey', alpha = 0.15)\r\n",
        "    plt.plot(pd.to_datetime(EO[0]), 70, marker = '_', color = 'black', alpha = 0.20)\r\n",
        "    plt.text(pd.to_datetime(EO[0]), 50, EO[1], horizontalalignment = 'center', \r\n",
        "             rotation = 45, alpha = 0.20)\r\n",
        "  for EO in Same_restr_EO: \r\n",
        "    plt.axvline(pd.to_datetime(EO[0]), linestyle = '--', color = 'grey', alpha = 0.05)\r\n",
        "    plt.text(pd.to_datetime(EO[0]), 50, EO[1], horizontalalignment = 'center', \r\n",
        "             rotation = 45, alpha = 0.10)\r\n",
        "    \r\n",
        "# Show and close plot:\r\n",
        "\r\n",
        "plt.show()\r\n",
        "plt.close()"
      ],
      "execution_count": null,
      "outputs": []
    },
    {
      "cell_type": "markdown",
      "metadata": {
        "id": "lao001Jn7B0p"
      },
      "source": [
        "Plot the daily increase in the probability of coming into contact with someone with Covid-19 in a group of **size 50**:"
      ]
    },
    {
      "cell_type": "code",
      "metadata": {
        "colab": {
          "base_uri": "https://localhost:8080/",
          "height": 352
        },
        "id": "6c0PZcFQ7B0q",
        "outputId": "5a9c291b-3288-44dd-f397-a57219318cdd"
      },
      "source": [
        "# Calculate daily probabilities by both approaches:\r\n",
        "\r\n",
        "probs_50 = []\r\n",
        "for index, row in df_test.iterrows(): \r\n",
        "  probs_50.append((1 - (1 - row['frequentist'])**50)*100)\r\n",
        "for index, row in df_test.iterrows():\r\n",
        "  probs_50.append((1 - (1 - row['bayesian'])**50)*100)\r\n",
        "\r\n",
        "# Plot probabilites by time:\r\n",
        "\r\n",
        "fig, ax = plt.subplots()\r\n",
        "ax.plot(df_test['date'], probs_50[len(df_test['date']):])\r\n",
        "ax.plot(df_test['date'], probs_50[:len(df_test['date'])])\r\n",
        "\r\n",
        "# Set axis labels and title of the graph:\r\n",
        "\r\n",
        "ax.set_xlabel(\"Time\")\r\n",
        "ax.set_ylabel(\"Probability (1 - (1 - P(positive))^50)\")\r\n",
        "ax.set_title('''Time increase in probability of meeting someone with \r\n",
        "Covid-19 in Puerto Rico, in a group of size 50 \\n''')\r\n",
        "\r\n",
        "# Set y-axis limits, rotate x-axis ticks and insert legend:\r\n",
        "\r\n",
        "plt.ylim(0, 100)\r\n",
        "plt.xticks(rotation = 45)\r\n",
        "plt.legend(['Frequentist', 'Bayesian'])\r\n",
        "\r\n",
        "# Show lines marking the date of each executive order, its ID # and whether\r\n",
        "#   it increased ('+'), decreased ('_') or continued previous restrictions:\r\n",
        "\r\n",
        "if show_EOs:\r\n",
        "  for EO in More_restr_EO: \r\n",
        "    plt.axvline(pd.to_datetime(EO[0]), linestyle = '-' , color = 'grey', alpha = 0.15) \r\n",
        "    plt.plot(pd.to_datetime(EO[0]), 70, marker = '+', color = 'black', alpha = 0.20)\r\n",
        "    plt.text(pd.to_datetime(EO[0]), 50, EO[1], horizontalalignment = 'center', \r\n",
        "             rotation = 45, alpha = 0.20)\r\n",
        "  for EO in Less_restr_EO: \r\n",
        "    plt.axvline(pd.to_datetime(EO[0]), linestyle = '-' , color = 'grey', alpha = 0.15)\r\n",
        "    plt.plot(pd.to_datetime(EO[0]), 70, marker = '_', color = 'black', alpha = 0.20)\r\n",
        "    plt.text(pd.to_datetime(EO[0]), 50, EO[1], horizontalalignment = 'center', \r\n",
        "             rotation = 45, alpha = 0.20)\r\n",
        "  for EO in Same_restr_EO: \r\n",
        "    plt.axvline(pd.to_datetime(EO[0]), linestyle = '--', color = 'grey', alpha = 0.05)\r\n",
        "    plt.text(pd.to_datetime(EO[0]), 50, EO[1], horizontalalignment = 'center', \r\n",
        "             rotation = 45, alpha = 0.10)\r\n",
        "    \r\n",
        "# Show and close plot:\r\n",
        "\r\n",
        "plt.show()\r\n",
        "plt.close()"
      ],
      "execution_count": null,
      "outputs": []
    },
    {
      "cell_type": "markdown",
      "metadata": {
        "id": "eKNLGGigNoTN"
      },
      "source": [
        "## References:"
      ]
    },
    {
      "cell_type": "markdown",
      "metadata": {
        "id": "Dyi8ChC7RBvw"
      },
      "source": [
        "* Source article of the main probability formulas used in this project:\r\n",
        "\r\n",
        "  * [\"How likely are you to meet someone with Coronavirus?\"](https://towardsdatascience.com/how-likely-are-you-to-meet-someone-with-coronavirus-4522d39487b7), by Marek Galovič\r\n",
        "\r\n",
        "* Datasets:\r\n",
        "\r\n",
        "  * [Coronavirus Resource Center](https://coronavirus.jhu.edu/region/us/puerto-rico) of the John Hopkins University of Medicine\r\n",
        "  * [Centers of Desease Control and Prevention](https://data.cdc.gov/Case-Surveillance/United-States-COVID-19-Cases-and-Deaths-by-State-o/9mfq-cb36)\r\n",
        "\r\n",
        "* [Repository of all referenced executive orders](https://www.estado.pr.gov/en/executive-orders/) provided by the Government of Puerto Rico."
      ]
    }
  ]
}